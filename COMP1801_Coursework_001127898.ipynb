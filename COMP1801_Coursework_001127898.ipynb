{
  "nbformat": 4,
  "nbformat_minor": 0,
  "metadata": {
    "colab": {
      "name": "COMP1801_Coursework_001127898.ipynb",
      "provenance": [],
      "collapsed_sections": []
    },
    "kernelspec": {
      "name": "python3",
      "display_name": "Python 3"
    },
    "language_info": {
      "name": "python"
    },
    "accelerator": "GPU"
  },
  "cells": [
    {
      "cell_type": "markdown",
      "metadata": {
        "id": "c5T0dAODvluh"
      },
      "source": [
        "#**Financial Fraudulent Transaction Detection Using Machine Learning Techniques**"
      ]
    },
    {
      "cell_type": "markdown",
      "source": [
        "**Imports Libraries**"
      ],
      "metadata": {
        "id": "J6qD-xoaUh_f"
      }
    },
    {
      "cell_type": "code",
      "metadata": {
        "id": "K-Kz50_Bv-gF"
      },
      "source": [
        "import pandas as pd\n",
        "import matplotlib.pyplot as plt\n",
        "import seaborn as sns\n",
        "import numpy as np\n",
        "\n",
        "from sklearn.model_selection import train_test_split \n",
        "from sklearn.ensemble import RandomForestClassifier\n",
        "from sklearn.tree import DecisionTreeClassifier\n",
        "from sklearn.linear_model import LogisticRegression\n",
        "from sklearn.metrics import confusion_matrix, precision_score, recall_score, f1_score, confusion_matrix, precision_recall_curve, accuracy_score\n",
        "from sklearn.tree import plot_tree\n",
        "from sklearn.svm import SVC\n",
        "from sklearn.preprocessing import StandardScaler\n",
        "from keras.models import Sequential\n",
        "from keras.layers import Dense, Dropout\n",
        "\n",
        "%matplotlib inline"
      ],
      "execution_count": 1,
      "outputs": []
    },
    {
      "cell_type": "markdown",
      "metadata": {
        "id": "f6AarQ0tvwoE"
      },
      "source": [
        "##**Data download and loading**"
      ]
    },
    {
      "cell_type": "code",
      "metadata": {
        "colab": {
          "base_uri": "https://localhost:8080/"
        },
        "id": "E0rq8VmuzLuq",
        "outputId": "a39c7003-56d9-44d7-9969-813835427e88"
      },
      "source": [
        "!gdown --id 1A_EE7CIltvI5YfP_EPzmQ5jeNezT7cfF"
      ],
      "execution_count": 2,
      "outputs": [
        {
          "output_type": "stream",
          "name": "stdout",
          "text": [
            "Downloading...\n",
            "From: https://drive.google.com/uc?id=1A_EE7CIltvI5YfP_EPzmQ5jeNezT7cfF\n",
            "To: /content/transactions.csv\n",
            "100% 16.1M/16.1M [00:00<00:00, 60.8MB/s]\n"
          ]
        }
      ]
    },
    {
      "cell_type": "code",
      "metadata": {
        "colab": {
          "base_uri": "https://localhost:8080/",
          "height": 423
        },
        "id": "q-C9s3OTztFK",
        "outputId": "468d14ee-3026-4d1a-f261-b5660b9e5198"
      },
      "source": [
        "df = pd.read_csv(\"/content/transactions.csv\")\n",
        "new_df = df.drop(df.columns[0], axis=1)\n",
        "new_df"
      ],
      "execution_count": 3,
      "outputs": [
        {
          "output_type": "execute_result",
          "data": {
            "text/html": [
              "\n",
              "  <div id=\"df-b3e447fb-a33b-411b-b4e1-5c5f3f5f28b7\">\n",
              "    <div class=\"colab-df-container\">\n",
              "      <div>\n",
              "<style scoped>\n",
              "    .dataframe tbody tr th:only-of-type {\n",
              "        vertical-align: middle;\n",
              "    }\n",
              "\n",
              "    .dataframe tbody tr th {\n",
              "        vertical-align: top;\n",
              "    }\n",
              "\n",
              "    .dataframe thead th {\n",
              "        text-align: right;\n",
              "    }\n",
              "</style>\n",
              "<table border=\"1\" class=\"dataframe\">\n",
              "  <thead>\n",
              "    <tr style=\"text-align: right;\">\n",
              "      <th></th>\n",
              "      <th>step</th>\n",
              "      <th>type</th>\n",
              "      <th>amount</th>\n",
              "      <th>nameOrig</th>\n",
              "      <th>oldbalanceOrg</th>\n",
              "      <th>newbalanceOrig</th>\n",
              "      <th>nameDest</th>\n",
              "      <th>oldbalanceDest</th>\n",
              "      <th>newbalanceDest</th>\n",
              "      <th>isFraud</th>\n",
              "    </tr>\n",
              "  </thead>\n",
              "  <tbody>\n",
              "    <tr>\n",
              "      <th>0</th>\n",
              "      <td>1</td>\n",
              "      <td>PAYMENT</td>\n",
              "      <td>9839.64</td>\n",
              "      <td>C1231006815</td>\n",
              "      <td>170136.0</td>\n",
              "      <td>160296.36</td>\n",
              "      <td>M1979787155</td>\n",
              "      <td>0.00</td>\n",
              "      <td>0.00</td>\n",
              "      <td>0</td>\n",
              "    </tr>\n",
              "    <tr>\n",
              "      <th>1</th>\n",
              "      <td>1</td>\n",
              "      <td>PAYMENT</td>\n",
              "      <td>1864.28</td>\n",
              "      <td>C1666544295</td>\n",
              "      <td>21249.0</td>\n",
              "      <td>19384.72</td>\n",
              "      <td>M2044282225</td>\n",
              "      <td>0.00</td>\n",
              "      <td>0.00</td>\n",
              "      <td>0</td>\n",
              "    </tr>\n",
              "    <tr>\n",
              "      <th>2</th>\n",
              "      <td>1</td>\n",
              "      <td>TRANSFER</td>\n",
              "      <td>181.00</td>\n",
              "      <td>C1305486145</td>\n",
              "      <td>181.0</td>\n",
              "      <td>0.00</td>\n",
              "      <td>C553264065</td>\n",
              "      <td>0.00</td>\n",
              "      <td>0.00</td>\n",
              "      <td>1</td>\n",
              "    </tr>\n",
              "    <tr>\n",
              "      <th>3</th>\n",
              "      <td>1</td>\n",
              "      <td>CASH_OUT</td>\n",
              "      <td>181.00</td>\n",
              "      <td>C840083671</td>\n",
              "      <td>181.0</td>\n",
              "      <td>0.00</td>\n",
              "      <td>C38997010</td>\n",
              "      <td>21182.00</td>\n",
              "      <td>0.00</td>\n",
              "      <td>1</td>\n",
              "    </tr>\n",
              "    <tr>\n",
              "      <th>4</th>\n",
              "      <td>1</td>\n",
              "      <td>PAYMENT</td>\n",
              "      <td>11668.14</td>\n",
              "      <td>C2048537720</td>\n",
              "      <td>41554.0</td>\n",
              "      <td>29885.86</td>\n",
              "      <td>M1230701703</td>\n",
              "      <td>0.00</td>\n",
              "      <td>0.00</td>\n",
              "      <td>0</td>\n",
              "    </tr>\n",
              "    <tr>\n",
              "      <th>...</th>\n",
              "      <td>...</td>\n",
              "      <td>...</td>\n",
              "      <td>...</td>\n",
              "      <td>...</td>\n",
              "      <td>...</td>\n",
              "      <td>...</td>\n",
              "      <td>...</td>\n",
              "      <td>...</td>\n",
              "      <td>...</td>\n",
              "      <td>...</td>\n",
              "    </tr>\n",
              "    <tr>\n",
              "      <th>199995</th>\n",
              "      <td>13</td>\n",
              "      <td>CASH_IN</td>\n",
              "      <td>149024.27</td>\n",
              "      <td>C1446913085</td>\n",
              "      <td>8688.0</td>\n",
              "      <td>157712.27</td>\n",
              "      <td>C476402209</td>\n",
              "      <td>440028.59</td>\n",
              "      <td>321427.51</td>\n",
              "      <td>0</td>\n",
              "    </tr>\n",
              "    <tr>\n",
              "      <th>199996</th>\n",
              "      <td>13</td>\n",
              "      <td>PAYMENT</td>\n",
              "      <td>71076.01</td>\n",
              "      <td>C1421983410</td>\n",
              "      <td>50291.0</td>\n",
              "      <td>0.00</td>\n",
              "      <td>M855368711</td>\n",
              "      <td>0.00</td>\n",
              "      <td>0.00</td>\n",
              "      <td>0</td>\n",
              "    </tr>\n",
              "    <tr>\n",
              "      <th>199997</th>\n",
              "      <td>13</td>\n",
              "      <td>CASH_OUT</td>\n",
              "      <td>147125.05</td>\n",
              "      <td>C80624764</td>\n",
              "      <td>0.0</td>\n",
              "      <td>0.00</td>\n",
              "      <td>C747330421</td>\n",
              "      <td>1058502.64</td>\n",
              "      <td>1325544.47</td>\n",
              "      <td>0</td>\n",
              "    </tr>\n",
              "    <tr>\n",
              "      <th>199998</th>\n",
              "      <td>13</td>\n",
              "      <td>CASH_OUT</td>\n",
              "      <td>97529.67</td>\n",
              "      <td>C595001108</td>\n",
              "      <td>0.0</td>\n",
              "      <td>0.00</td>\n",
              "      <td>C575555170</td>\n",
              "      <td>1921846.97</td>\n",
              "      <td>2019376.64</td>\n",
              "      <td>0</td>\n",
              "    </tr>\n",
              "    <tr>\n",
              "      <th>199999</th>\n",
              "      <td>13</td>\n",
              "      <td>CASH_OUT</td>\n",
              "      <td>211748.46</td>\n",
              "      <td>C2048647654</td>\n",
              "      <td>496279.0</td>\n",
              "      <td>284530.54</td>\n",
              "      <td>C1091477477</td>\n",
              "      <td>0.00</td>\n",
              "      <td>211748.46</td>\n",
              "      <td>0</td>\n",
              "    </tr>\n",
              "  </tbody>\n",
              "</table>\n",
              "<p>200000 rows × 10 columns</p>\n",
              "</div>\n",
              "      <button class=\"colab-df-convert\" onclick=\"convertToInteractive('df-b3e447fb-a33b-411b-b4e1-5c5f3f5f28b7')\"\n",
              "              title=\"Convert this dataframe to an interactive table.\"\n",
              "              style=\"display:none;\">\n",
              "        \n",
              "  <svg xmlns=\"http://www.w3.org/2000/svg\" height=\"24px\"viewBox=\"0 0 24 24\"\n",
              "       width=\"24px\">\n",
              "    <path d=\"M0 0h24v24H0V0z\" fill=\"none\"/>\n",
              "    <path d=\"M18.56 5.44l.94 2.06.94-2.06 2.06-.94-2.06-.94-.94-2.06-.94 2.06-2.06.94zm-11 1L8.5 8.5l.94-2.06 2.06-.94-2.06-.94L8.5 2.5l-.94 2.06-2.06.94zm10 10l.94 2.06.94-2.06 2.06-.94-2.06-.94-.94-2.06-.94 2.06-2.06.94z\"/><path d=\"M17.41 7.96l-1.37-1.37c-.4-.4-.92-.59-1.43-.59-.52 0-1.04.2-1.43.59L10.3 9.45l-7.72 7.72c-.78.78-.78 2.05 0 2.83L4 21.41c.39.39.9.59 1.41.59.51 0 1.02-.2 1.41-.59l7.78-7.78 2.81-2.81c.8-.78.8-2.07 0-2.86zM5.41 20L4 18.59l7.72-7.72 1.47 1.35L5.41 20z\"/>\n",
              "  </svg>\n",
              "      </button>\n",
              "      \n",
              "  <style>\n",
              "    .colab-df-container {\n",
              "      display:flex;\n",
              "      flex-wrap:wrap;\n",
              "      gap: 12px;\n",
              "    }\n",
              "\n",
              "    .colab-df-convert {\n",
              "      background-color: #E8F0FE;\n",
              "      border: none;\n",
              "      border-radius: 50%;\n",
              "      cursor: pointer;\n",
              "      display: none;\n",
              "      fill: #1967D2;\n",
              "      height: 32px;\n",
              "      padding: 0 0 0 0;\n",
              "      width: 32px;\n",
              "    }\n",
              "\n",
              "    .colab-df-convert:hover {\n",
              "      background-color: #E2EBFA;\n",
              "      box-shadow: 0px 1px 2px rgba(60, 64, 67, 0.3), 0px 1px 3px 1px rgba(60, 64, 67, 0.15);\n",
              "      fill: #174EA6;\n",
              "    }\n",
              "\n",
              "    [theme=dark] .colab-df-convert {\n",
              "      background-color: #3B4455;\n",
              "      fill: #D2E3FC;\n",
              "    }\n",
              "\n",
              "    [theme=dark] .colab-df-convert:hover {\n",
              "      background-color: #434B5C;\n",
              "      box-shadow: 0px 1px 3px 1px rgba(0, 0, 0, 0.15);\n",
              "      filter: drop-shadow(0px 1px 2px rgba(0, 0, 0, 0.3));\n",
              "      fill: #FFFFFF;\n",
              "    }\n",
              "  </style>\n",
              "\n",
              "      <script>\n",
              "        const buttonEl =\n",
              "          document.querySelector('#df-b3e447fb-a33b-411b-b4e1-5c5f3f5f28b7 button.colab-df-convert');\n",
              "        buttonEl.style.display =\n",
              "          google.colab.kernel.accessAllowed ? 'block' : 'none';\n",
              "\n",
              "        async function convertToInteractive(key) {\n",
              "          const element = document.querySelector('#df-b3e447fb-a33b-411b-b4e1-5c5f3f5f28b7');\n",
              "          const dataTable =\n",
              "            await google.colab.kernel.invokeFunction('convertToInteractive',\n",
              "                                                     [key], {});\n",
              "          if (!dataTable) return;\n",
              "\n",
              "          const docLinkHtml = 'Like what you see? Visit the ' +\n",
              "            '<a target=\"_blank\" href=https://colab.research.google.com/notebooks/data_table.ipynb>data table notebook</a>'\n",
              "            + ' to learn more about interactive tables.';\n",
              "          element.innerHTML = '';\n",
              "          dataTable['output_type'] = 'display_data';\n",
              "          await google.colab.output.renderOutput(dataTable, element);\n",
              "          const docLink = document.createElement('div');\n",
              "          docLink.innerHTML = docLinkHtml;\n",
              "          element.appendChild(docLink);\n",
              "        }\n",
              "      </script>\n",
              "    </div>\n",
              "  </div>\n",
              "  "
            ],
            "text/plain": [
              "        step      type     amount  ... oldbalanceDest  newbalanceDest  isFraud\n",
              "0          1   PAYMENT    9839.64  ...           0.00            0.00        0\n",
              "1          1   PAYMENT    1864.28  ...           0.00            0.00        0\n",
              "2          1  TRANSFER     181.00  ...           0.00            0.00        1\n",
              "3          1  CASH_OUT     181.00  ...       21182.00            0.00        1\n",
              "4          1   PAYMENT   11668.14  ...           0.00            0.00        0\n",
              "...      ...       ...        ...  ...            ...             ...      ...\n",
              "199995    13   CASH_IN  149024.27  ...      440028.59       321427.51        0\n",
              "199996    13   PAYMENT   71076.01  ...           0.00            0.00        0\n",
              "199997    13  CASH_OUT  147125.05  ...     1058502.64      1325544.47        0\n",
              "199998    13  CASH_OUT   97529.67  ...     1921846.97      2019376.64        0\n",
              "199999    13  CASH_OUT  211748.46  ...           0.00       211748.46        0\n",
              "\n",
              "[200000 rows x 10 columns]"
            ]
          },
          "metadata": {},
          "execution_count": 3
        }
      ]
    },
    {
      "cell_type": "markdown",
      "metadata": {
        "id": "ilfphU9RgBwv"
      },
      "source": [
        "####**Findings: The shape of the dataframe is 199999 records and 10 features.**"
      ]
    },
    {
      "cell_type": "code",
      "metadata": {
        "colab": {
          "base_uri": "https://localhost:8080/"
        },
        "id": "qpFlFR9k8avp",
        "outputId": "2cb245f5-5c20-4865-d9a1-aef3df53912c"
      },
      "source": [
        "new_df.columns\n"
      ],
      "execution_count": 4,
      "outputs": [
        {
          "output_type": "execute_result",
          "data": {
            "text/plain": [
              "Index(['step', 'type', 'amount', 'nameOrig', 'oldbalanceOrg', 'newbalanceOrig',\n",
              "       'nameDest', 'oldbalanceDest', 'newbalanceDest', 'isFraud'],\n",
              "      dtype='object')"
            ]
          },
          "metadata": {},
          "execution_count": 4
        }
      ]
    },
    {
      "cell_type": "code",
      "metadata": {
        "colab": {
          "base_uri": "https://localhost:8080/"
        },
        "id": "C7nwhbdPeY4T",
        "outputId": "96cab719-8484-442a-cde8-d87f3c3b8f19"
      },
      "source": [
        "nulls = new_df.isnull().sum(axis=0).sort_values(ascending=False);\n",
        "nulls"
      ],
      "execution_count": 5,
      "outputs": [
        {
          "output_type": "execute_result",
          "data": {
            "text/plain": [
              "isFraud           0\n",
              "newbalanceDest    0\n",
              "oldbalanceDest    0\n",
              "nameDest          0\n",
              "newbalanceOrig    0\n",
              "oldbalanceOrg     0\n",
              "nameOrig          0\n",
              "amount            0\n",
              "type              0\n",
              "step              0\n",
              "dtype: int64"
            ]
          },
          "metadata": {},
          "execution_count": 5
        }
      ]
    },
    {
      "cell_type": "markdown",
      "metadata": {
        "id": "8BCcwYVCgVQz"
      },
      "source": [
        "####Findings: From above data it can be seen that there is no null values at all in all the columns."
      ]
    },
    {
      "cell_type": "markdown",
      "metadata": {
        "id": "fDYDLH0Lz8Bx"
      },
      "source": [
        "####**Discrpitive Statistics of the data set**"
      ]
    },
    {
      "cell_type": "code",
      "metadata": {
        "colab": {
          "base_uri": "https://localhost:8080/",
          "height": 300
        },
        "id": "9qwYpUR8z_DJ",
        "outputId": "e292ef21-8c76-4cac-b13c-83b3f3714697"
      },
      "source": [
        "new_df.describe()"
      ],
      "execution_count": 6,
      "outputs": [
        {
          "output_type": "execute_result",
          "data": {
            "text/html": [
              "\n",
              "  <div id=\"df-47fc4ee4-1f8e-485a-95fd-c19eeb747c30\">\n",
              "    <div class=\"colab-df-container\">\n",
              "      <div>\n",
              "<style scoped>\n",
              "    .dataframe tbody tr th:only-of-type {\n",
              "        vertical-align: middle;\n",
              "    }\n",
              "\n",
              "    .dataframe tbody tr th {\n",
              "        vertical-align: top;\n",
              "    }\n",
              "\n",
              "    .dataframe thead th {\n",
              "        text-align: right;\n",
              "    }\n",
              "</style>\n",
              "<table border=\"1\" class=\"dataframe\">\n",
              "  <thead>\n",
              "    <tr style=\"text-align: right;\">\n",
              "      <th></th>\n",
              "      <th>step</th>\n",
              "      <th>amount</th>\n",
              "      <th>oldbalanceOrg</th>\n",
              "      <th>newbalanceOrig</th>\n",
              "      <th>oldbalanceDest</th>\n",
              "      <th>newbalanceDest</th>\n",
              "      <th>isFraud</th>\n",
              "    </tr>\n",
              "  </thead>\n",
              "  <tbody>\n",
              "    <tr>\n",
              "      <th>count</th>\n",
              "      <td>200000.00000</td>\n",
              "      <td>2.000000e+05</td>\n",
              "      <td>2.000000e+05</td>\n",
              "      <td>2.000000e+05</td>\n",
              "      <td>2.000000e+05</td>\n",
              "      <td>2.000000e+05</td>\n",
              "      <td>200000.000000</td>\n",
              "    </tr>\n",
              "    <tr>\n",
              "      <th>mean</th>\n",
              "      <td>10.06589</td>\n",
              "      <td>1.808112e+05</td>\n",
              "      <td>8.821957e+05</td>\n",
              "      <td>9.001938e+05</td>\n",
              "      <td>9.411592e+05</td>\n",
              "      <td>1.191866e+06</td>\n",
              "      <td>0.000735</td>\n",
              "    </tr>\n",
              "    <tr>\n",
              "      <th>std</th>\n",
              "      <td>2.12174</td>\n",
              "      <td>3.291800e+05</td>\n",
              "      <td>2.766264e+06</td>\n",
              "      <td>2.803759e+06</td>\n",
              "      <td>2.373010e+06</td>\n",
              "      <td>2.655236e+06</td>\n",
              "      <td>0.027101</td>\n",
              "    </tr>\n",
              "    <tr>\n",
              "      <th>min</th>\n",
              "      <td>1.00000</td>\n",
              "      <td>3.200000e-01</td>\n",
              "      <td>0.000000e+00</td>\n",
              "      <td>0.000000e+00</td>\n",
              "      <td>0.000000e+00</td>\n",
              "      <td>0.000000e+00</td>\n",
              "      <td>0.000000</td>\n",
              "    </tr>\n",
              "    <tr>\n",
              "      <th>25%</th>\n",
              "      <td>9.00000</td>\n",
              "      <td>1.201612e+04</td>\n",
              "      <td>0.000000e+00</td>\n",
              "      <td>0.000000e+00</td>\n",
              "      <td>0.000000e+00</td>\n",
              "      <td>0.000000e+00</td>\n",
              "      <td>0.000000</td>\n",
              "    </tr>\n",
              "    <tr>\n",
              "      <th>50%</th>\n",
              "      <td>10.00000</td>\n",
              "      <td>6.872104e+04</td>\n",
              "      <td>1.951000e+04</td>\n",
              "      <td>0.000000e+00</td>\n",
              "      <td>5.055850e+04</td>\n",
              "      <td>1.320839e+05</td>\n",
              "      <td>0.000000</td>\n",
              "    </tr>\n",
              "    <tr>\n",
              "      <th>75%</th>\n",
              "      <td>12.00000</td>\n",
              "      <td>2.290791e+05</td>\n",
              "      <td>1.915686e+05</td>\n",
              "      <td>2.275212e+05</td>\n",
              "      <td>7.645361e+05</td>\n",
              "      <td>1.189164e+06</td>\n",
              "      <td>0.000000</td>\n",
              "    </tr>\n",
              "    <tr>\n",
              "      <th>max</th>\n",
              "      <td>13.00000</td>\n",
              "      <td>1.000000e+07</td>\n",
              "      <td>3.893942e+07</td>\n",
              "      <td>3.894623e+07</td>\n",
              "      <td>3.903958e+07</td>\n",
              "      <td>3.904248e+07</td>\n",
              "      <td>1.000000</td>\n",
              "    </tr>\n",
              "  </tbody>\n",
              "</table>\n",
              "</div>\n",
              "      <button class=\"colab-df-convert\" onclick=\"convertToInteractive('df-47fc4ee4-1f8e-485a-95fd-c19eeb747c30')\"\n",
              "              title=\"Convert this dataframe to an interactive table.\"\n",
              "              style=\"display:none;\">\n",
              "        \n",
              "  <svg xmlns=\"http://www.w3.org/2000/svg\" height=\"24px\"viewBox=\"0 0 24 24\"\n",
              "       width=\"24px\">\n",
              "    <path d=\"M0 0h24v24H0V0z\" fill=\"none\"/>\n",
              "    <path d=\"M18.56 5.44l.94 2.06.94-2.06 2.06-.94-2.06-.94-.94-2.06-.94 2.06-2.06.94zm-11 1L8.5 8.5l.94-2.06 2.06-.94-2.06-.94L8.5 2.5l-.94 2.06-2.06.94zm10 10l.94 2.06.94-2.06 2.06-.94-2.06-.94-.94-2.06-.94 2.06-2.06.94z\"/><path d=\"M17.41 7.96l-1.37-1.37c-.4-.4-.92-.59-1.43-.59-.52 0-1.04.2-1.43.59L10.3 9.45l-7.72 7.72c-.78.78-.78 2.05 0 2.83L4 21.41c.39.39.9.59 1.41.59.51 0 1.02-.2 1.41-.59l7.78-7.78 2.81-2.81c.8-.78.8-2.07 0-2.86zM5.41 20L4 18.59l7.72-7.72 1.47 1.35L5.41 20z\"/>\n",
              "  </svg>\n",
              "      </button>\n",
              "      \n",
              "  <style>\n",
              "    .colab-df-container {\n",
              "      display:flex;\n",
              "      flex-wrap:wrap;\n",
              "      gap: 12px;\n",
              "    }\n",
              "\n",
              "    .colab-df-convert {\n",
              "      background-color: #E8F0FE;\n",
              "      border: none;\n",
              "      border-radius: 50%;\n",
              "      cursor: pointer;\n",
              "      display: none;\n",
              "      fill: #1967D2;\n",
              "      height: 32px;\n",
              "      padding: 0 0 0 0;\n",
              "      width: 32px;\n",
              "    }\n",
              "\n",
              "    .colab-df-convert:hover {\n",
              "      background-color: #E2EBFA;\n",
              "      box-shadow: 0px 1px 2px rgba(60, 64, 67, 0.3), 0px 1px 3px 1px rgba(60, 64, 67, 0.15);\n",
              "      fill: #174EA6;\n",
              "    }\n",
              "\n",
              "    [theme=dark] .colab-df-convert {\n",
              "      background-color: #3B4455;\n",
              "      fill: #D2E3FC;\n",
              "    }\n",
              "\n",
              "    [theme=dark] .colab-df-convert:hover {\n",
              "      background-color: #434B5C;\n",
              "      box-shadow: 0px 1px 3px 1px rgba(0, 0, 0, 0.15);\n",
              "      filter: drop-shadow(0px 1px 2px rgba(0, 0, 0, 0.3));\n",
              "      fill: #FFFFFF;\n",
              "    }\n",
              "  </style>\n",
              "\n",
              "      <script>\n",
              "        const buttonEl =\n",
              "          document.querySelector('#df-47fc4ee4-1f8e-485a-95fd-c19eeb747c30 button.colab-df-convert');\n",
              "        buttonEl.style.display =\n",
              "          google.colab.kernel.accessAllowed ? 'block' : 'none';\n",
              "\n",
              "        async function convertToInteractive(key) {\n",
              "          const element = document.querySelector('#df-47fc4ee4-1f8e-485a-95fd-c19eeb747c30');\n",
              "          const dataTable =\n",
              "            await google.colab.kernel.invokeFunction('convertToInteractive',\n",
              "                                                     [key], {});\n",
              "          if (!dataTable) return;\n",
              "\n",
              "          const docLinkHtml = 'Like what you see? Visit the ' +\n",
              "            '<a target=\"_blank\" href=https://colab.research.google.com/notebooks/data_table.ipynb>data table notebook</a>'\n",
              "            + ' to learn more about interactive tables.';\n",
              "          element.innerHTML = '';\n",
              "          dataTable['output_type'] = 'display_data';\n",
              "          await google.colab.output.renderOutput(dataTable, element);\n",
              "          const docLink = document.createElement('div');\n",
              "          docLink.innerHTML = docLinkHtml;\n",
              "          element.appendChild(docLink);\n",
              "        }\n",
              "      </script>\n",
              "    </div>\n",
              "  </div>\n",
              "  "
            ],
            "text/plain": [
              "               step        amount  ...  newbalanceDest        isFraud\n",
              "count  200000.00000  2.000000e+05  ...    2.000000e+05  200000.000000\n",
              "mean       10.06589  1.808112e+05  ...    1.191866e+06       0.000735\n",
              "std         2.12174  3.291800e+05  ...    2.655236e+06       0.027101\n",
              "min         1.00000  3.200000e-01  ...    0.000000e+00       0.000000\n",
              "25%         9.00000  1.201612e+04  ...    0.000000e+00       0.000000\n",
              "50%        10.00000  6.872104e+04  ...    1.320839e+05       0.000000\n",
              "75%        12.00000  2.290791e+05  ...    1.189164e+06       0.000000\n",
              "max        13.00000  1.000000e+07  ...    3.904248e+07       1.000000\n",
              "\n",
              "[8 rows x 7 columns]"
            ]
          },
          "metadata": {},
          "execution_count": 6
        }
      ]
    },
    {
      "cell_type": "markdown",
      "metadata": {
        "id": "tVg-fAAe2_v5"
      },
      "source": [
        "##**Data pre-processing and Exploratory Data Analysis**"
      ]
    },
    {
      "cell_type": "markdown",
      "metadata": {
        "id": "mXZZQmT23GiJ"
      },
      "source": [
        "##**Data imbalance**\n",
        "###**The ratio of fraudulent / non-fraudulent transactions**"
      ]
    },
    {
      "cell_type": "code",
      "metadata": {
        "colab": {
          "base_uri": "https://localhost:8080/",
          "height": 365
        },
        "id": "RgWYXW8IefSK",
        "outputId": "3a9fd6bb-0e1c-4182-87e4-9d30fd626a0f"
      },
      "source": [
        "labels = [\"Genuine\", \"Fraud\"]\n",
        "new_df[\"isFraud\"].value_counts().plot(kind=\"bar\")\n",
        "\n",
        "plt.title(\"Visualization of Labels\")\n",
        "plt.ylabel(\"Count\")\n",
        "plt.xticks(range(2), labels)\n",
        "plt.show()\n",
        "new_df[\"isFraud\"].value_counts()"
      ],
      "execution_count": 7,
      "outputs": [
        {
          "output_type": "display_data",
          "data": {
            "image/png": "[encoded data removed]",
            "text/plain": [
              "<Figure size 432x288 with 1 Axes>"
            ]
          },
          "metadata": {
            "needs_background": "light"
          }
        },
        {
          "output_type": "execute_result",
          "data": {
            "text/plain": [
              "0    199853\n",
              "1       147\n",
              "Name: isFraud, dtype: int64"
            ]
          },
          "metadata": {},
          "execution_count": 7
        }
      ]
    },
    {
      "cell_type": "code",
      "source": [
        "fig, ax = plt.subplots(figsize=(6,4))\n",
        "ax = sns.countplot(x='type', hue=\"isFraud\", data=new_df, order=new_df['type'].value_counts().index)\n",
        "ax.set_title(\"Transaction type\", fontsize=15)\n",
        "plt.show()\n"
      ],
      "metadata": {
        "colab": {
          "base_uri": "https://localhost:8080/",
          "height": 298
        },
        "id": "4IYM7AHontVz",
        "outputId": "d809db49-763d-42c2-fe44-4c81bafd0850"
      },
      "execution_count": 8,
      "outputs": [
        {
          "output_type": "display_data",
          "data": {
            "image/png": "[encoded data removed]",
            "text/plain": [
              "<Figure size 432x288 with 1 Axes>"
            ]
          },
          "metadata": {
            "needs_background": "light"
          }
        }
      ]
    },
    {
      "cell_type": "code",
      "metadata": {
        "colab": {
          "base_uri": "https://localhost:8080/"
        },
        "id": "GLrL_Vy3ejG6",
        "outputId": "7faadc16-a010-4597-a7e7-684147b165ba"
      },
      "source": [
        "print('Proportion of fraudulent trades: {:.2f}%'.format(new_df['isFraud'].value_counts()[1]/new_df['isFraud'].size * 100))"
      ],
      "execution_count": 9,
      "outputs": [
        {
          "output_type": "stream",
          "name": "stdout",
          "text": [
            "Proportion of fraudulent trades: 0.07%\n"
          ]
        }
      ]
    },
    {
      "cell_type": "markdown",
      "metadata": {
        "id": "hYo7nFs83ZIl"
      },
      "source": [
        "###**Applying the SMOTE(sampling methods) to balance the dataset classes.**"
      ]
    },
    {
      "cell_type": "markdown",
      "metadata": {
        "id": "Z08MpRKosbT8"
      },
      "source": [
        "####**Under-sampling method**"
      ]
    },
    {
      "cell_type": "code",
      "metadata": {
        "id": "6sC98kD1elmK"
      },
      "source": [
        "fraud_count = len(new_df[new_df['isFraud'] == 1])\n",
        "non_frauds_count = len(new_df[new_df['isFraud'] == 0])\n",
        "\n",
        "sampled_non_fraud = new_df[new_df['isFraud'] == 0].sample(n=fraud_count)\n",
        "sampled_non_fraud.reset_index(drop=True, inplace=True)\n",
        "\n",
        "fraud = new_df[new_df['isFraud'] == 1]\n",
        "fraud.reset_index(drop=True, inplace=True)\n"
      ],
      "execution_count": 10,
      "outputs": []
    },
    {
      "cell_type": "code",
      "metadata": {
        "colab": {
          "base_uri": "https://localhost:8080/",
          "height": 313
        },
        "id": "kDQoNmIph3XS",
        "outputId": "51deb133-836d-4004-a319-5b7c27caca2f"
      },
      "source": [
        "balanced_df = pd.concat([sampled_non_fraud, fraud]).reset_index(drop=True);\n",
        "labels = [\"Genuine\", \"Fraud\"]\n",
        "\n",
        "balanced_df['isFraud'].value_counts().plot(kind='bar')\n",
        "plt.title(\"Visualization of Labels after Under-sampling\")\n",
        "plt.ylabel(\"Count\")\n",
        "plt.xticks(range(2), labels)\n",
        "plt.show()"
      ],
      "execution_count": 11,
      "outputs": [
        {
          "output_type": "display_data",
          "data": {
            "image/png": "[encoded data removed]",
            "text/plain": [
              "<Figure size 432x288 with 1 Axes>"
            ]
          },
          "metadata": {
            "needs_background": "light"
          }
        }
      ]
    },
    {
      "cell_type": "code",
      "metadata": {
        "colab": {
          "base_uri": "https://localhost:8080/",
          "height": 423
        },
        "id": "bf3_D_UhuWkv",
        "outputId": "27c4a2ae-5f55-46c7-ef7c-df07a42b9238"
      },
      "source": [
        "balanced_df"
      ],
      "execution_count": 12,
      "outputs": [
        {
          "output_type": "execute_result",
          "data": {
            "text/html": [
              "\n",
              "  <div id=\"df-654723d3-1d3f-45b6-9caf-6f4b6cd0be86\">\n",
              "    <div class=\"colab-df-container\">\n",
              "      <div>\n",
              "<style scoped>\n",
              "    .dataframe tbody tr th:only-of-type {\n",
              "        vertical-align: middle;\n",
              "    }\n",
              "\n",
              "    .dataframe tbody tr th {\n",
              "        vertical-align: top;\n",
              "    }\n",
              "\n",
              "    .dataframe thead th {\n",
              "        text-align: right;\n",
              "    }\n",
              "</style>\n",
              "<table border=\"1\" class=\"dataframe\">\n",
              "  <thead>\n",
              "    <tr style=\"text-align: right;\">\n",
              "      <th></th>\n",
              "      <th>step</th>\n",
              "      <th>type</th>\n",
              "      <th>amount</th>\n",
              "      <th>nameOrig</th>\n",
              "      <th>oldbalanceOrg</th>\n",
              "      <th>newbalanceOrig</th>\n",
              "      <th>nameDest</th>\n",
              "      <th>oldbalanceDest</th>\n",
              "      <th>newbalanceDest</th>\n",
              "      <th>isFraud</th>\n",
              "    </tr>\n",
              "  </thead>\n",
              "  <tbody>\n",
              "    <tr>\n",
              "      <th>0</th>\n",
              "      <td>9</td>\n",
              "      <td>CASH_OUT</td>\n",
              "      <td>285087.30</td>\n",
              "      <td>C1427346769</td>\n",
              "      <td>0.00</td>\n",
              "      <td>0.00</td>\n",
              "      <td>C426784026</td>\n",
              "      <td>338644.86</td>\n",
              "      <td>1674917.08</td>\n",
              "      <td>0</td>\n",
              "    </tr>\n",
              "    <tr>\n",
              "      <th>1</th>\n",
              "      <td>11</td>\n",
              "      <td>TRANSFER</td>\n",
              "      <td>581810.04</td>\n",
              "      <td>C1531157872</td>\n",
              "      <td>0.00</td>\n",
              "      <td>0.00</td>\n",
              "      <td>C623476050</td>\n",
              "      <td>9991226.46</td>\n",
              "      <td>10749273.16</td>\n",
              "      <td>0</td>\n",
              "    </tr>\n",
              "    <tr>\n",
              "      <th>2</th>\n",
              "      <td>9</td>\n",
              "      <td>PAYMENT</td>\n",
              "      <td>25729.17</td>\n",
              "      <td>C1382712720</td>\n",
              "      <td>5065.58</td>\n",
              "      <td>0.00</td>\n",
              "      <td>M1928073278</td>\n",
              "      <td>0.00</td>\n",
              "      <td>0.00</td>\n",
              "      <td>0</td>\n",
              "    </tr>\n",
              "    <tr>\n",
              "      <th>3</th>\n",
              "      <td>9</td>\n",
              "      <td>PAYMENT</td>\n",
              "      <td>17663.67</td>\n",
              "      <td>C1471255996</td>\n",
              "      <td>1839626.39</td>\n",
              "      <td>1821962.72</td>\n",
              "      <td>M963562853</td>\n",
              "      <td>0.00</td>\n",
              "      <td>0.00</td>\n",
              "      <td>0</td>\n",
              "    </tr>\n",
              "    <tr>\n",
              "      <th>4</th>\n",
              "      <td>10</td>\n",
              "      <td>TRANSFER</td>\n",
              "      <td>524201.64</td>\n",
              "      <td>C534690797</td>\n",
              "      <td>0.00</td>\n",
              "      <td>0.00</td>\n",
              "      <td>C705487682</td>\n",
              "      <td>1770938.59</td>\n",
              "      <td>3631062.50</td>\n",
              "      <td>0</td>\n",
              "    </tr>\n",
              "    <tr>\n",
              "      <th>...</th>\n",
              "      <td>...</td>\n",
              "      <td>...</td>\n",
              "      <td>...</td>\n",
              "      <td>...</td>\n",
              "      <td>...</td>\n",
              "      <td>...</td>\n",
              "      <td>...</td>\n",
              "      <td>...</td>\n",
              "      <td>...</td>\n",
              "      <td>...</td>\n",
              "    </tr>\n",
              "    <tr>\n",
              "      <th>289</th>\n",
              "      <td>13</td>\n",
              "      <td>CASH_OUT</td>\n",
              "      <td>408.00</td>\n",
              "      <td>C1894004688</td>\n",
              "      <td>408.00</td>\n",
              "      <td>0.00</td>\n",
              "      <td>C1293978242</td>\n",
              "      <td>898297.85</td>\n",
              "      <td>1075854.14</td>\n",
              "      <td>1</td>\n",
              "    </tr>\n",
              "    <tr>\n",
              "      <th>290</th>\n",
              "      <td>13</td>\n",
              "      <td>TRANSFER</td>\n",
              "      <td>48375.02</td>\n",
              "      <td>C920803432</td>\n",
              "      <td>48375.02</td>\n",
              "      <td>0.00</td>\n",
              "      <td>C1767389067</td>\n",
              "      <td>0.00</td>\n",
              "      <td>0.00</td>\n",
              "      <td>1</td>\n",
              "    </tr>\n",
              "    <tr>\n",
              "      <th>291</th>\n",
              "      <td>13</td>\n",
              "      <td>CASH_OUT</td>\n",
              "      <td>48375.02</td>\n",
              "      <td>C1894578299</td>\n",
              "      <td>48375.02</td>\n",
              "      <td>0.00</td>\n",
              "      <td>C590035788</td>\n",
              "      <td>374803.26</td>\n",
              "      <td>658520.33</td>\n",
              "      <td>1</td>\n",
              "    </tr>\n",
              "    <tr>\n",
              "      <th>292</th>\n",
              "      <td>13</td>\n",
              "      <td>TRANSFER</td>\n",
              "      <td>4022667.54</td>\n",
              "      <td>C735463888</td>\n",
              "      <td>4022667.54</td>\n",
              "      <td>0.00</td>\n",
              "      <td>C1548348754</td>\n",
              "      <td>0.00</td>\n",
              "      <td>0.00</td>\n",
              "      <td>1</td>\n",
              "    </tr>\n",
              "    <tr>\n",
              "      <th>293</th>\n",
              "      <td>13</td>\n",
              "      <td>CASH_OUT</td>\n",
              "      <td>4022667.54</td>\n",
              "      <td>C79951219</td>\n",
              "      <td>4022667.54</td>\n",
              "      <td>0.00</td>\n",
              "      <td>C1499489682</td>\n",
              "      <td>80136.56</td>\n",
              "      <td>4057191.21</td>\n",
              "      <td>1</td>\n",
              "    </tr>\n",
              "  </tbody>\n",
              "</table>\n",
              "<p>294 rows × 10 columns</p>\n",
              "</div>\n",
              "      <button class=\"colab-df-convert\" onclick=\"convertToInteractive('df-654723d3-1d3f-45b6-9caf-6f4b6cd0be86')\"\n",
              "              title=\"Convert this dataframe to an interactive table.\"\n",
              "              style=\"display:none;\">\n",
              "        \n",
              "  <svg xmlns=\"http://www.w3.org/2000/svg\" height=\"24px\"viewBox=\"0 0 24 24\"\n",
              "       width=\"24px\">\n",
              "    <path d=\"M0 0h24v24H0V0z\" fill=\"none\"/>\n",
              "    <path d=\"M18.56 5.44l.94 2.06.94-2.06 2.06-.94-2.06-.94-.94-2.06-.94 2.06-2.06.94zm-11 1L8.5 8.5l.94-2.06 2.06-.94-2.06-.94L8.5 2.5l-.94 2.06-2.06.94zm10 10l.94 2.06.94-2.06 2.06-.94-2.06-.94-.94-2.06-.94 2.06-2.06.94z\"/><path d=\"M17.41 7.96l-1.37-1.37c-.4-.4-.92-.59-1.43-.59-.52 0-1.04.2-1.43.59L10.3 9.45l-7.72 7.72c-.78.78-.78 2.05 0 2.83L4 21.41c.39.39.9.59 1.41.59.51 0 1.02-.2 1.41-.59l7.78-7.78 2.81-2.81c.8-.78.8-2.07 0-2.86zM5.41 20L4 18.59l7.72-7.72 1.47 1.35L5.41 20z\"/>\n",
              "  </svg>\n",
              "      </button>\n",
              "      \n",
              "  <style>\n",
              "    .colab-df-container {\n",
              "      display:flex;\n",
              "      flex-wrap:wrap;\n",
              "      gap: 12px;\n",
              "    }\n",
              "\n",
              "    .colab-df-convert {\n",
              "      background-color: #E8F0FE;\n",
              "      border: none;\n",
              "      border-radius: 50%;\n",
              "      cursor: pointer;\n",
              "      display: none;\n",
              "      fill: #1967D2;\n",
              "      height: 32px;\n",
              "      padding: 0 0 0 0;\n",
              "      width: 32px;\n",
              "    }\n",
              "\n",
              "    .colab-df-convert:hover {\n",
              "      background-color: #E2EBFA;\n",
              "      box-shadow: 0px 1px 2px rgba(60, 64, 67, 0.3), 0px 1px 3px 1px rgba(60, 64, 67, 0.15);\n",
              "      fill: #174EA6;\n",
              "    }\n",
              "\n",
              "    [theme=dark] .colab-df-convert {\n",
              "      background-color: #3B4455;\n",
              "      fill: #D2E3FC;\n",
              "    }\n",
              "\n",
              "    [theme=dark] .colab-df-convert:hover {\n",
              "      background-color: #434B5C;\n",
              "      box-shadow: 0px 1px 3px 1px rgba(0, 0, 0, 0.15);\n",
              "      filter: drop-shadow(0px 1px 2px rgba(0, 0, 0, 0.3));\n",
              "      fill: #FFFFFF;\n",
              "    }\n",
              "  </style>\n",
              "\n",
              "      <script>\n",
              "        const buttonEl =\n",
              "          document.querySelector('#df-654723d3-1d3f-45b6-9caf-6f4b6cd0be86 button.colab-df-convert');\n",
              "        buttonEl.style.display =\n",
              "          google.colab.kernel.accessAllowed ? 'block' : 'none';\n",
              "\n",
              "        async function convertToInteractive(key) {\n",
              "          const element = document.querySelector('#df-654723d3-1d3f-45b6-9caf-6f4b6cd0be86');\n",
              "          const dataTable =\n",
              "            await google.colab.kernel.invokeFunction('convertToInteractive',\n",
              "                                                     [key], {});\n",
              "          if (!dataTable) return;\n",
              "\n",
              "          const docLinkHtml = 'Like what you see? Visit the ' +\n",
              "            '<a target=\"_blank\" href=https://colab.research.google.com/notebooks/data_table.ipynb>data table notebook</a>'\n",
              "            + ' to learn more about interactive tables.';\n",
              "          element.innerHTML = '';\n",
              "          dataTable['output_type'] = 'display_data';\n",
              "          await google.colab.output.renderOutput(dataTable, element);\n",
              "          const docLink = document.createElement('div');\n",
              "          docLink.innerHTML = docLinkHtml;\n",
              "          element.appendChild(docLink);\n",
              "        }\n",
              "      </script>\n",
              "    </div>\n",
              "  </div>\n",
              "  "
            ],
            "text/plain": [
              "     step      type      amount  ... oldbalanceDest  newbalanceDest  isFraud\n",
              "0       9  CASH_OUT   285087.30  ...      338644.86      1674917.08        0\n",
              "1      11  TRANSFER   581810.04  ...     9991226.46     10749273.16        0\n",
              "2       9   PAYMENT    25729.17  ...           0.00            0.00        0\n",
              "3       9   PAYMENT    17663.67  ...           0.00            0.00        0\n",
              "4      10  TRANSFER   524201.64  ...     1770938.59      3631062.50        0\n",
              "..    ...       ...         ...  ...            ...             ...      ...\n",
              "289    13  CASH_OUT      408.00  ...      898297.85      1075854.14        1\n",
              "290    13  TRANSFER    48375.02  ...           0.00            0.00        1\n",
              "291    13  CASH_OUT    48375.02  ...      374803.26       658520.33        1\n",
              "292    13  TRANSFER  4022667.54  ...           0.00            0.00        1\n",
              "293    13  CASH_OUT  4022667.54  ...       80136.56      4057191.21        1\n",
              "\n",
              "[294 rows x 10 columns]"
            ]
          },
          "metadata": {},
          "execution_count": 12
        }
      ]
    },
    {
      "cell_type": "markdown",
      "metadata": {
        "id": "_fQxR4o3eEIi"
      },
      "source": [
        "###**Feature Correlation**\n",
        "\n",
        "By creating correlation maps we can identify features that are closely correlated with the legitimacy of our transactions. This can be a crucial step when performing dimensionality reduction, remoing/adding features"
      ]
    },
    {
      "cell_type": "code",
      "metadata": {
        "colab": {
          "base_uri": "https://localhost:8080/",
          "height": 522
        },
        "id": "RKwlJv1Wj6Ao",
        "outputId": "476ba3c7-626e-4bf9-f904-d7af91f39731"
      },
      "source": [
        "corr_matrix = balanced_df.corr()\n",
        "f, ax = plt.subplots(figsize=(16, 8))\n",
        "plt.subplot(1, 2, 1)\n",
        "plt.title('Correlation matrix of sub-sampled data')\n",
        "sns.heatmap(corr_matrix, vmax=1, square=True)"
      ],
      "execution_count": 13,
      "outputs": [
        {
          "output_type": "execute_result",
          "data": {
            "text/plain": [
              "<matplotlib.axes._subplots.AxesSubplot at 0x7efc8edb4550>"
            ]
          },
          "metadata": {},
          "execution_count": 13
        },
        {
          "output_type": "display_data",
          "data": {
            "image/png": "[encoded data removed]",
            "text/plain": [
              "<Figure size 1152x576 with 2 Axes>"
            ]
          },
          "metadata": {
            "needs_background": "light"
          }
        }
      ]
    },
    {
      "cell_type": "code",
      "metadata": {
        "colab": {
          "base_uri": "https://localhost:8080/",
          "height": 269
        },
        "id": "7kiYbEyNm7nm",
        "outputId": "c0f60f71-7c82-46a2-831c-0a8c70384b7f"
      },
      "source": [
        "corr_matrix"
      ],
      "execution_count": 14,
      "outputs": [
        {
          "output_type": "execute_result",
          "data": {
            "text/html": [
              "\n",
              "  <div id=\"df-c2974ff4-4d23-4c6e-a212-ae2c81e99f27\">\n",
              "    <div class=\"colab-df-container\">\n",
              "      <div>\n",
              "<style scoped>\n",
              "    .dataframe tbody tr th:only-of-type {\n",
              "        vertical-align: middle;\n",
              "    }\n",
              "\n",
              "    .dataframe tbody tr th {\n",
              "        vertical-align: top;\n",
              "    }\n",
              "\n",
              "    .dataframe thead th {\n",
              "        text-align: right;\n",
              "    }\n",
              "</style>\n",
              "<table border=\"1\" class=\"dataframe\">\n",
              "  <thead>\n",
              "    <tr style=\"text-align: right;\">\n",
              "      <th></th>\n",
              "      <th>step</th>\n",
              "      <th>amount</th>\n",
              "      <th>oldbalanceOrg</th>\n",
              "      <th>newbalanceOrig</th>\n",
              "      <th>oldbalanceDest</th>\n",
              "      <th>newbalanceDest</th>\n",
              "      <th>isFraud</th>\n",
              "    </tr>\n",
              "  </thead>\n",
              "  <tbody>\n",
              "    <tr>\n",
              "      <th>step</th>\n",
              "      <td>1.000000</td>\n",
              "      <td>-0.040480</td>\n",
              "      <td>0.014725</td>\n",
              "      <td>0.075913</td>\n",
              "      <td>0.148153</td>\n",
              "      <td>0.094852</td>\n",
              "      <td>-0.445518</td>\n",
              "    </tr>\n",
              "    <tr>\n",
              "      <th>amount</th>\n",
              "      <td>-0.040480</td>\n",
              "      <td>1.000000</td>\n",
              "      <td>0.576313</td>\n",
              "      <td>0.002084</td>\n",
              "      <td>0.010957</td>\n",
              "      <td>0.293710</td>\n",
              "      <td>0.199727</td>\n",
              "    </tr>\n",
              "    <tr>\n",
              "      <th>oldbalanceOrg</th>\n",
              "      <td>0.014725</td>\n",
              "      <td>0.576313</td>\n",
              "      <td>1.000000</td>\n",
              "      <td>0.801800</td>\n",
              "      <td>0.090772</td>\n",
              "      <td>0.189274</td>\n",
              "      <td>-0.032854</td>\n",
              "    </tr>\n",
              "    <tr>\n",
              "      <th>newbalanceOrig</th>\n",
              "      <td>0.075913</td>\n",
              "      <td>0.002084</td>\n",
              "      <td>0.801800</td>\n",
              "      <td>1.000000</td>\n",
              "      <td>0.157375</td>\n",
              "      <td>0.087483</td>\n",
              "      <td>-0.238287</td>\n",
              "    </tr>\n",
              "    <tr>\n",
              "      <th>oldbalanceDest</th>\n",
              "      <td>0.148153</td>\n",
              "      <td>0.010957</td>\n",
              "      <td>0.090772</td>\n",
              "      <td>0.157375</td>\n",
              "      <td>1.000000</td>\n",
              "      <td>0.867495</td>\n",
              "      <td>-0.192417</td>\n",
              "    </tr>\n",
              "    <tr>\n",
              "      <th>newbalanceDest</th>\n",
              "      <td>0.094852</td>\n",
              "      <td>0.293710</td>\n",
              "      <td>0.189274</td>\n",
              "      <td>0.087483</td>\n",
              "      <td>0.867495</td>\n",
              "      <td>1.000000</td>\n",
              "      <td>-0.117992</td>\n",
              "    </tr>\n",
              "    <tr>\n",
              "      <th>isFraud</th>\n",
              "      <td>-0.445518</td>\n",
              "      <td>0.199727</td>\n",
              "      <td>-0.032854</td>\n",
              "      <td>-0.238287</td>\n",
              "      <td>-0.192417</td>\n",
              "      <td>-0.117992</td>\n",
              "      <td>1.000000</td>\n",
              "    </tr>\n",
              "  </tbody>\n",
              "</table>\n",
              "</div>\n",
              "      <button class=\"colab-df-convert\" onclick=\"convertToInteractive('df-c2974ff4-4d23-4c6e-a212-ae2c81e99f27')\"\n",
              "              title=\"Convert this dataframe to an interactive table.\"\n",
              "              style=\"display:none;\">\n",
              "        \n",
              "  <svg xmlns=\"http://www.w3.org/2000/svg\" height=\"24px\"viewBox=\"0 0 24 24\"\n",
              "       width=\"24px\">\n",
              "    <path d=\"M0 0h24v24H0V0z\" fill=\"none\"/>\n",
              "    <path d=\"M18.56 5.44l.94 2.06.94-2.06 2.06-.94-2.06-.94-.94-2.06-.94 2.06-2.06.94zm-11 1L8.5 8.5l.94-2.06 2.06-.94-2.06-.94L8.5 2.5l-.94 2.06-2.06.94zm10 10l.94 2.06.94-2.06 2.06-.94-2.06-.94-.94-2.06-.94 2.06-2.06.94z\"/><path d=\"M17.41 7.96l-1.37-1.37c-.4-.4-.92-.59-1.43-.59-.52 0-1.04.2-1.43.59L10.3 9.45l-7.72 7.72c-.78.78-.78 2.05 0 2.83L4 21.41c.39.39.9.59 1.41.59.51 0 1.02-.2 1.41-.59l7.78-7.78 2.81-2.81c.8-.78.8-2.07 0-2.86zM5.41 20L4 18.59l7.72-7.72 1.47 1.35L5.41 20z\"/>\n",
              "  </svg>\n",
              "      </button>\n",
              "      \n",
              "  <style>\n",
              "    .colab-df-container {\n",
              "      display:flex;\n",
              "      flex-wrap:wrap;\n",
              "      gap: 12px;\n",
              "    }\n",
              "\n",
              "    .colab-df-convert {\n",
              "      background-color: #E8F0FE;\n",
              "      border: none;\n",
              "      border-radius: 50%;\n",
              "      cursor: pointer;\n",
              "      display: none;\n",
              "      fill: #1967D2;\n",
              "      height: 32px;\n",
              "      padding: 0 0 0 0;\n",
              "      width: 32px;\n",
              "    }\n",
              "\n",
              "    .colab-df-convert:hover {\n",
              "      background-color: #E2EBFA;\n",
              "      box-shadow: 0px 1px 2px rgba(60, 64, 67, 0.3), 0px 1px 3px 1px rgba(60, 64, 67, 0.15);\n",
              "      fill: #174EA6;\n",
              "    }\n",
              "\n",
              "    [theme=dark] .colab-df-convert {\n",
              "      background-color: #3B4455;\n",
              "      fill: #D2E3FC;\n",
              "    }\n",
              "\n",
              "    [theme=dark] .colab-df-convert:hover {\n",
              "      background-color: #434B5C;\n",
              "      box-shadow: 0px 1px 3px 1px rgba(0, 0, 0, 0.15);\n",
              "      filter: drop-shadow(0px 1px 2px rgba(0, 0, 0, 0.3));\n",
              "      fill: #FFFFFF;\n",
              "    }\n",
              "  </style>\n",
              "\n",
              "      <script>\n",
              "        const buttonEl =\n",
              "          document.querySelector('#df-c2974ff4-4d23-4c6e-a212-ae2c81e99f27 button.colab-df-convert');\n",
              "        buttonEl.style.display =\n",
              "          google.colab.kernel.accessAllowed ? 'block' : 'none';\n",
              "\n",
              "        async function convertToInteractive(key) {\n",
              "          const element = document.querySelector('#df-c2974ff4-4d23-4c6e-a212-ae2c81e99f27');\n",
              "          const dataTable =\n",
              "            await google.colab.kernel.invokeFunction('convertToInteractive',\n",
              "                                                     [key], {});\n",
              "          if (!dataTable) return;\n",
              "\n",
              "          const docLinkHtml = 'Like what you see? Visit the ' +\n",
              "            '<a target=\"_blank\" href=https://colab.research.google.com/notebooks/data_table.ipynb>data table notebook</a>'\n",
              "            + ' to learn more about interactive tables.';\n",
              "          element.innerHTML = '';\n",
              "          dataTable['output_type'] = 'display_data';\n",
              "          await google.colab.output.renderOutput(dataTable, element);\n",
              "          const docLink = document.createElement('div');\n",
              "          docLink.innerHTML = docLinkHtml;\n",
              "          element.appendChild(docLink);\n",
              "        }\n",
              "      </script>\n",
              "    </div>\n",
              "  </div>\n",
              "  "
            ],
            "text/plain": [
              "                    step    amount  ...  newbalanceDest   isFraud\n",
              "step            1.000000 -0.040480  ...        0.094852 -0.445518\n",
              "amount         -0.040480  1.000000  ...        0.293710  0.199727\n",
              "oldbalanceOrg   0.014725  0.576313  ...        0.189274 -0.032854\n",
              "newbalanceOrig  0.075913  0.002084  ...        0.087483 -0.238287\n",
              "oldbalanceDest  0.148153  0.010957  ...        0.867495 -0.192417\n",
              "newbalanceDest  0.094852  0.293710  ...        1.000000 -0.117992\n",
              "isFraud        -0.445518  0.199727  ...       -0.117992  1.000000\n",
              "\n",
              "[7 rows x 7 columns]"
            ]
          },
          "metadata": {},
          "execution_count": 14
        }
      ]
    },
    {
      "cell_type": "markdown",
      "metadata": {
        "id": "lCjD6na9kP7c"
      },
      "source": [
        "###**pair plots for all fields of the dataset.**"
      ]
    },
    {
      "cell_type": "code",
      "metadata": {
        "colab": {
          "base_uri": "https://localhost:8080/",
          "height": 1000
        },
        "id": "hfHC-4_gkR9Y",
        "outputId": "9146b30f-dd79-4a3e-8f24-096c81b87cf4"
      },
      "source": [
        "sns.pairplot(balanced_df, hue=\"isFraud\")"
      ],
      "execution_count": 15,
      "outputs": [
        {
          "output_type": "execute_result",
          "data": {
            "text/plain": [
              "<seaborn.axisgrid.PairGrid at 0x7efc864427d0>"
            ]
          },
          "metadata": {},
          "execution_count": 15
        },
        {
          "output_type": "display_data",
          "data": {
            "image/png": "[encoded data removed]",
            "text/plain": [
              "<Figure size 1124.12x1080 with 42 Axes>"
            ]
          },
          "metadata": {
            "needs_background": "light"
          }
        }
      ]
    },
    {
      "cell_type": "markdown",
      "metadata": {
        "id": "yLROE6bUg1AQ"
      },
      "source": [
        "####**Findings: The \"newbalanceOrig\" field is useful for classifying the fraudulent/non-fraudulent data. It can be notice from the above data that there is 145 fraudulent transaction when the balance is 0.00 and 83 non-fraudulent transaction when balance is 0.00. However, after some some balance we can see all transaction is almost non-fraudulent.So, I believe the \"newbalanceOrig\" can be the best feature to classifies the fraud/non-fraud transaction.**"
      ]
    },
    {
      "cell_type": "markdown",
      "metadata": {
        "id": "wdGR8JkDk4Rk"
      },
      "source": [
        "###**New database for classification, by using the existing fields of the dataset.**"
      ]
    },
    {
      "cell_type": "code",
      "metadata": {
        "colab": {
          "base_uri": "https://localhost:8080/",
          "height": 423
        },
        "id": "MMMNnEUUt4Em",
        "outputId": "473f9435-fc8d-4883-d850-3d269a11f6c9"
      },
      "source": [
        "balanced_df"
      ],
      "execution_count": 16,
      "outputs": [
        {
          "output_type": "execute_result",
          "data": {
            "text/html": [
              "\n",
              "  <div id=\"df-c8a10556-310d-4c99-86a2-16c0cf736504\">\n",
              "    <div class=\"colab-df-container\">\n",
              "      <div>\n",
              "<style scoped>\n",
              "    .dataframe tbody tr th:only-of-type {\n",
              "        vertical-align: middle;\n",
              "    }\n",
              "\n",
              "    .dataframe tbody tr th {\n",
              "        vertical-align: top;\n",
              "    }\n",
              "\n",
              "    .dataframe thead th {\n",
              "        text-align: right;\n",
              "    }\n",
              "</style>\n",
              "<table border=\"1\" class=\"dataframe\">\n",
              "  <thead>\n",
              "    <tr style=\"text-align: right;\">\n",
              "      <th></th>\n",
              "      <th>step</th>\n",
              "      <th>type</th>\n",
              "      <th>amount</th>\n",
              "      <th>nameOrig</th>\n",
              "      <th>oldbalanceOrg</th>\n",
              "      <th>newbalanceOrig</th>\n",
              "      <th>nameDest</th>\n",
              "      <th>oldbalanceDest</th>\n",
              "      <th>newbalanceDest</th>\n",
              "      <th>isFraud</th>\n",
              "    </tr>\n",
              "  </thead>\n",
              "  <tbody>\n",
              "    <tr>\n",
              "      <th>0</th>\n",
              "      <td>9</td>\n",
              "      <td>CASH_OUT</td>\n",
              "      <td>285087.30</td>\n",
              "      <td>C1427346769</td>\n",
              "      <td>0.00</td>\n",
              "      <td>0.00</td>\n",
              "      <td>C426784026</td>\n",
              "      <td>338644.86</td>\n",
              "      <td>1674917.08</td>\n",
              "      <td>0</td>\n",
              "    </tr>\n",
              "    <tr>\n",
              "      <th>1</th>\n",
              "      <td>11</td>\n",
              "      <td>TRANSFER</td>\n",
              "      <td>581810.04</td>\n",
              "      <td>C1531157872</td>\n",
              "      <td>0.00</td>\n",
              "      <td>0.00</td>\n",
              "      <td>C623476050</td>\n",
              "      <td>9991226.46</td>\n",
              "      <td>10749273.16</td>\n",
              "      <td>0</td>\n",
              "    </tr>\n",
              "    <tr>\n",
              "      <th>2</th>\n",
              "      <td>9</td>\n",
              "      <td>PAYMENT</td>\n",
              "      <td>25729.17</td>\n",
              "      <td>C1382712720</td>\n",
              "      <td>5065.58</td>\n",
              "      <td>0.00</td>\n",
              "      <td>M1928073278</td>\n",
              "      <td>0.00</td>\n",
              "      <td>0.00</td>\n",
              "      <td>0</td>\n",
              "    </tr>\n",
              "    <tr>\n",
              "      <th>3</th>\n",
              "      <td>9</td>\n",
              "      <td>PAYMENT</td>\n",
              "      <td>17663.67</td>\n",
              "      <td>C1471255996</td>\n",
              "      <td>1839626.39</td>\n",
              "      <td>1821962.72</td>\n",
              "      <td>M963562853</td>\n",
              "      <td>0.00</td>\n",
              "      <td>0.00</td>\n",
              "      <td>0</td>\n",
              "    </tr>\n",
              "    <tr>\n",
              "      <th>4</th>\n",
              "      <td>10</td>\n",
              "      <td>TRANSFER</td>\n",
              "      <td>524201.64</td>\n",
              "      <td>C534690797</td>\n",
              "      <td>0.00</td>\n",
              "      <td>0.00</td>\n",
              "      <td>C705487682</td>\n",
              "      <td>1770938.59</td>\n",
              "      <td>3631062.50</td>\n",
              "      <td>0</td>\n",
              "    </tr>\n",
              "    <tr>\n",
              "      <th>...</th>\n",
              "      <td>...</td>\n",
              "      <td>...</td>\n",
              "      <td>...</td>\n",
              "      <td>...</td>\n",
              "      <td>...</td>\n",
              "      <td>...</td>\n",
              "      <td>...</td>\n",
              "      <td>...</td>\n",
              "      <td>...</td>\n",
              "      <td>...</td>\n",
              "    </tr>\n",
              "    <tr>\n",
              "      <th>289</th>\n",
              "      <td>13</td>\n",
              "      <td>CASH_OUT</td>\n",
              "      <td>408.00</td>\n",
              "      <td>C1894004688</td>\n",
              "      <td>408.00</td>\n",
              "      <td>0.00</td>\n",
              "      <td>C1293978242</td>\n",
              "      <td>898297.85</td>\n",
              "      <td>1075854.14</td>\n",
              "      <td>1</td>\n",
              "    </tr>\n",
              "    <tr>\n",
              "      <th>290</th>\n",
              "      <td>13</td>\n",
              "      <td>TRANSFER</td>\n",
              "      <td>48375.02</td>\n",
              "      <td>C920803432</td>\n",
              "      <td>48375.02</td>\n",
              "      <td>0.00</td>\n",
              "      <td>C1767389067</td>\n",
              "      <td>0.00</td>\n",
              "      <td>0.00</td>\n",
              "      <td>1</td>\n",
              "    </tr>\n",
              "    <tr>\n",
              "      <th>291</th>\n",
              "      <td>13</td>\n",
              "      <td>CASH_OUT</td>\n",
              "      <td>48375.02</td>\n",
              "      <td>C1894578299</td>\n",
              "      <td>48375.02</td>\n",
              "      <td>0.00</td>\n",
              "      <td>C590035788</td>\n",
              "      <td>374803.26</td>\n",
              "      <td>658520.33</td>\n",
              "      <td>1</td>\n",
              "    </tr>\n",
              "    <tr>\n",
              "      <th>292</th>\n",
              "      <td>13</td>\n",
              "      <td>TRANSFER</td>\n",
              "      <td>4022667.54</td>\n",
              "      <td>C735463888</td>\n",
              "      <td>4022667.54</td>\n",
              "      <td>0.00</td>\n",
              "      <td>C1548348754</td>\n",
              "      <td>0.00</td>\n",
              "      <td>0.00</td>\n",
              "      <td>1</td>\n",
              "    </tr>\n",
              "    <tr>\n",
              "      <th>293</th>\n",
              "      <td>13</td>\n",
              "      <td>CASH_OUT</td>\n",
              "      <td>4022667.54</td>\n",
              "      <td>C79951219</td>\n",
              "      <td>4022667.54</td>\n",
              "      <td>0.00</td>\n",
              "      <td>C1499489682</td>\n",
              "      <td>80136.56</td>\n",
              "      <td>4057191.21</td>\n",
              "      <td>1</td>\n",
              "    </tr>\n",
              "  </tbody>\n",
              "</table>\n",
              "<p>294 rows × 10 columns</p>\n",
              "</div>\n",
              "      <button class=\"colab-df-convert\" onclick=\"convertToInteractive('df-c8a10556-310d-4c99-86a2-16c0cf736504')\"\n",
              "              title=\"Convert this dataframe to an interactive table.\"\n",
              "              style=\"display:none;\">\n",
              "        \n",
              "  <svg xmlns=\"http://www.w3.org/2000/svg\" height=\"24px\"viewBox=\"0 0 24 24\"\n",
              "       width=\"24px\">\n",
              "    <path d=\"M0 0h24v24H0V0z\" fill=\"none\"/>\n",
              "    <path d=\"M18.56 5.44l.94 2.06.94-2.06 2.06-.94-2.06-.94-.94-2.06-.94 2.06-2.06.94zm-11 1L8.5 8.5l.94-2.06 2.06-.94-2.06-.94L8.5 2.5l-.94 2.06-2.06.94zm10 10l.94 2.06.94-2.06 2.06-.94-2.06-.94-.94-2.06-.94 2.06-2.06.94z\"/><path d=\"M17.41 7.96l-1.37-1.37c-.4-.4-.92-.59-1.43-.59-.52 0-1.04.2-1.43.59L10.3 9.45l-7.72 7.72c-.78.78-.78 2.05 0 2.83L4 21.41c.39.39.9.59 1.41.59.51 0 1.02-.2 1.41-.59l7.78-7.78 2.81-2.81c.8-.78.8-2.07 0-2.86zM5.41 20L4 18.59l7.72-7.72 1.47 1.35L5.41 20z\"/>\n",
              "  </svg>\n",
              "      </button>\n",
              "      \n",
              "  <style>\n",
              "    .colab-df-container {\n",
              "      display:flex;\n",
              "      flex-wrap:wrap;\n",
              "      gap: 12px;\n",
              "    }\n",
              "\n",
              "    .colab-df-convert {\n",
              "      background-color: #E8F0FE;\n",
              "      border: none;\n",
              "      border-radius: 50%;\n",
              "      cursor: pointer;\n",
              "      display: none;\n",
              "      fill: #1967D2;\n",
              "      height: 32px;\n",
              "      padding: 0 0 0 0;\n",
              "      width: 32px;\n",
              "    }\n",
              "\n",
              "    .colab-df-convert:hover {\n",
              "      background-color: #E2EBFA;\n",
              "      box-shadow: 0px 1px 2px rgba(60, 64, 67, 0.3), 0px 1px 3px 1px rgba(60, 64, 67, 0.15);\n",
              "      fill: #174EA6;\n",
              "    }\n",
              "\n",
              "    [theme=dark] .colab-df-convert {\n",
              "      background-color: #3B4455;\n",
              "      fill: #D2E3FC;\n",
              "    }\n",
              "\n",
              "    [theme=dark] .colab-df-convert:hover {\n",
              "      background-color: #434B5C;\n",
              "      box-shadow: 0px 1px 3px 1px rgba(0, 0, 0, 0.15);\n",
              "      filter: drop-shadow(0px 1px 2px rgba(0, 0, 0, 0.3));\n",
              "      fill: #FFFFFF;\n",
              "    }\n",
              "  </style>\n",
              "\n",
              "      <script>\n",
              "        const buttonEl =\n",
              "          document.querySelector('#df-c8a10556-310d-4c99-86a2-16c0cf736504 button.colab-df-convert');\n",
              "        buttonEl.style.display =\n",
              "          google.colab.kernel.accessAllowed ? 'block' : 'none';\n",
              "\n",
              "        async function convertToInteractive(key) {\n",
              "          const element = document.querySelector('#df-c8a10556-310d-4c99-86a2-16c0cf736504');\n",
              "          const dataTable =\n",
              "            await google.colab.kernel.invokeFunction('convertToInteractive',\n",
              "                                                     [key], {});\n",
              "          if (!dataTable) return;\n",
              "\n",
              "          const docLinkHtml = 'Like what you see? Visit the ' +\n",
              "            '<a target=\"_blank\" href=https://colab.research.google.com/notebooks/data_table.ipynb>data table notebook</a>'\n",
              "            + ' to learn more about interactive tables.';\n",
              "          element.innerHTML = '';\n",
              "          dataTable['output_type'] = 'display_data';\n",
              "          await google.colab.output.renderOutput(dataTable, element);\n",
              "          const docLink = document.createElement('div');\n",
              "          docLink.innerHTML = docLinkHtml;\n",
              "          element.appendChild(docLink);\n",
              "        }\n",
              "      </script>\n",
              "    </div>\n",
              "  </div>\n",
              "  "
            ],
            "text/plain": [
              "     step      type      amount  ... oldbalanceDest  newbalanceDest  isFraud\n",
              "0       9  CASH_OUT   285087.30  ...      338644.86      1674917.08        0\n",
              "1      11  TRANSFER   581810.04  ...     9991226.46     10749273.16        0\n",
              "2       9   PAYMENT    25729.17  ...           0.00            0.00        0\n",
              "3       9   PAYMENT    17663.67  ...           0.00            0.00        0\n",
              "4      10  TRANSFER   524201.64  ...     1770938.59      3631062.50        0\n",
              "..    ...       ...         ...  ...            ...             ...      ...\n",
              "289    13  CASH_OUT      408.00  ...      898297.85      1075854.14        1\n",
              "290    13  TRANSFER    48375.02  ...           0.00            0.00        1\n",
              "291    13  CASH_OUT    48375.02  ...      374803.26       658520.33        1\n",
              "292    13  TRANSFER  4022667.54  ...           0.00            0.00        1\n",
              "293    13  CASH_OUT  4022667.54  ...       80136.56      4057191.21        1\n",
              "\n",
              "[294 rows x 10 columns]"
            ]
          },
          "metadata": {},
          "execution_count": 16
        }
      ]
    },
    {
      "cell_type": "code",
      "metadata": {
        "colab": {
          "base_uri": "https://localhost:8080/"
        },
        "id": "aU0HjQxuvnNL",
        "outputId": "b79a0cdb-52c4-485c-96b5-61f4a789c3e3"
      },
      "source": [
        "new_df[\"nameDest\"].unique()"
      ],
      "execution_count": 17,
      "outputs": [
        {
          "output_type": "execute_result",
          "data": {
            "text/plain": [
              "array(['M1979787155', 'M2044282225', 'C553264065', ..., 'C1587454679',\n",
              "       'M855368711', 'C1091477477'], dtype=object)"
            ]
          },
          "metadata": {},
          "execution_count": 17
        }
      ]
    },
    {
      "cell_type": "code",
      "metadata": {
        "id": "Sa0K93cvy1Er"
      },
      "source": [
        "features = balanced_df.copy(deep=True)\n",
        "features['nameorig'] = features['nameOrig'].str.contains('C')\n",
        "features['namedest'] = features['nameDest'].str.contains('C')"
      ],
      "execution_count": 18,
      "outputs": []
    },
    {
      "cell_type": "code",
      "metadata": {
        "colab": {
          "base_uri": "https://localhost:8080/",
          "height": 423
        },
        "id": "E4ie-EJj0NSB",
        "outputId": "5af6678b-40ad-4504-d751-92df1f4daa53"
      },
      "source": [
        "features"
      ],
      "execution_count": 19,
      "outputs": [
        {
          "output_type": "execute_result",
          "data": {
            "text/html": [
              "\n",
              "  <div id=\"df-d8e0009b-5ecc-40c2-9e3e-e6d4e7c7898a\">\n",
              "    <div class=\"colab-df-container\">\n",
              "      <div>\n",
              "<style scoped>\n",
              "    .dataframe tbody tr th:only-of-type {\n",
              "        vertical-align: middle;\n",
              "    }\n",
              "\n",
              "    .dataframe tbody tr th {\n",
              "        vertical-align: top;\n",
              "    }\n",
              "\n",
              "    .dataframe thead th {\n",
              "        text-align: right;\n",
              "    }\n",
              "</style>\n",
              "<table border=\"1\" class=\"dataframe\">\n",
              "  <thead>\n",
              "    <tr style=\"text-align: right;\">\n",
              "      <th></th>\n",
              "      <th>step</th>\n",
              "      <th>type</th>\n",
              "      <th>amount</th>\n",
              "      <th>nameOrig</th>\n",
              "      <th>oldbalanceOrg</th>\n",
              "      <th>newbalanceOrig</th>\n",
              "      <th>nameDest</th>\n",
              "      <th>oldbalanceDest</th>\n",
              "      <th>newbalanceDest</th>\n",
              "      <th>isFraud</th>\n",
              "      <th>nameorig</th>\n",
              "      <th>namedest</th>\n",
              "    </tr>\n",
              "  </thead>\n",
              "  <tbody>\n",
              "    <tr>\n",
              "      <th>0</th>\n",
              "      <td>9</td>\n",
              "      <td>CASH_OUT</td>\n",
              "      <td>285087.30</td>\n",
              "      <td>C1427346769</td>\n",
              "      <td>0.00</td>\n",
              "      <td>0.00</td>\n",
              "      <td>C426784026</td>\n",
              "      <td>338644.86</td>\n",
              "      <td>1674917.08</td>\n",
              "      <td>0</td>\n",
              "      <td>True</td>\n",
              "      <td>True</td>\n",
              "    </tr>\n",
              "    <tr>\n",
              "      <th>1</th>\n",
              "      <td>11</td>\n",
              "      <td>TRANSFER</td>\n",
              "      <td>581810.04</td>\n",
              "      <td>C1531157872</td>\n",
              "      <td>0.00</td>\n",
              "      <td>0.00</td>\n",
              "      <td>C623476050</td>\n",
              "      <td>9991226.46</td>\n",
              "      <td>10749273.16</td>\n",
              "      <td>0</td>\n",
              "      <td>True</td>\n",
              "      <td>True</td>\n",
              "    </tr>\n",
              "    <tr>\n",
              "      <th>2</th>\n",
              "      <td>9</td>\n",
              "      <td>PAYMENT</td>\n",
              "      <td>25729.17</td>\n",
              "      <td>C1382712720</td>\n",
              "      <td>5065.58</td>\n",
              "      <td>0.00</td>\n",
              "      <td>M1928073278</td>\n",
              "      <td>0.00</td>\n",
              "      <td>0.00</td>\n",
              "      <td>0</td>\n",
              "      <td>True</td>\n",
              "      <td>False</td>\n",
              "    </tr>\n",
              "    <tr>\n",
              "      <th>3</th>\n",
              "      <td>9</td>\n",
              "      <td>PAYMENT</td>\n",
              "      <td>17663.67</td>\n",
              "      <td>C1471255996</td>\n",
              "      <td>1839626.39</td>\n",
              "      <td>1821962.72</td>\n",
              "      <td>M963562853</td>\n",
              "      <td>0.00</td>\n",
              "      <td>0.00</td>\n",
              "      <td>0</td>\n",
              "      <td>True</td>\n",
              "      <td>False</td>\n",
              "    </tr>\n",
              "    <tr>\n",
              "      <th>4</th>\n",
              "      <td>10</td>\n",
              "      <td>TRANSFER</td>\n",
              "      <td>524201.64</td>\n",
              "      <td>C534690797</td>\n",
              "      <td>0.00</td>\n",
              "      <td>0.00</td>\n",
              "      <td>C705487682</td>\n",
              "      <td>1770938.59</td>\n",
              "      <td>3631062.50</td>\n",
              "      <td>0</td>\n",
              "      <td>True</td>\n",
              "      <td>True</td>\n",
              "    </tr>\n",
              "    <tr>\n",
              "      <th>...</th>\n",
              "      <td>...</td>\n",
              "      <td>...</td>\n",
              "      <td>...</td>\n",
              "      <td>...</td>\n",
              "      <td>...</td>\n",
              "      <td>...</td>\n",
              "      <td>...</td>\n",
              "      <td>...</td>\n",
              "      <td>...</td>\n",
              "      <td>...</td>\n",
              "      <td>...</td>\n",
              "      <td>...</td>\n",
              "    </tr>\n",
              "    <tr>\n",
              "      <th>289</th>\n",
              "      <td>13</td>\n",
              "      <td>CASH_OUT</td>\n",
              "      <td>408.00</td>\n",
              "      <td>C1894004688</td>\n",
              "      <td>408.00</td>\n",
              "      <td>0.00</td>\n",
              "      <td>C1293978242</td>\n",
              "      <td>898297.85</td>\n",
              "      <td>1075854.14</td>\n",
              "      <td>1</td>\n",
              "      <td>True</td>\n",
              "      <td>True</td>\n",
              "    </tr>\n",
              "    <tr>\n",
              "      <th>290</th>\n",
              "      <td>13</td>\n",
              "      <td>TRANSFER</td>\n",
              "      <td>48375.02</td>\n",
              "      <td>C920803432</td>\n",
              "      <td>48375.02</td>\n",
              "      <td>0.00</td>\n",
              "      <td>C1767389067</td>\n",
              "      <td>0.00</td>\n",
              "      <td>0.00</td>\n",
              "      <td>1</td>\n",
              "      <td>True</td>\n",
              "      <td>True</td>\n",
              "    </tr>\n",
              "    <tr>\n",
              "      <th>291</th>\n",
              "      <td>13</td>\n",
              "      <td>CASH_OUT</td>\n",
              "      <td>48375.02</td>\n",
              "      <td>C1894578299</td>\n",
              "      <td>48375.02</td>\n",
              "      <td>0.00</td>\n",
              "      <td>C590035788</td>\n",
              "      <td>374803.26</td>\n",
              "      <td>658520.33</td>\n",
              "      <td>1</td>\n",
              "      <td>True</td>\n",
              "      <td>True</td>\n",
              "    </tr>\n",
              "    <tr>\n",
              "      <th>292</th>\n",
              "      <td>13</td>\n",
              "      <td>TRANSFER</td>\n",
              "      <td>4022667.54</td>\n",
              "      <td>C735463888</td>\n",
              "      <td>4022667.54</td>\n",
              "      <td>0.00</td>\n",
              "      <td>C1548348754</td>\n",
              "      <td>0.00</td>\n",
              "      <td>0.00</td>\n",
              "      <td>1</td>\n",
              "      <td>True</td>\n",
              "      <td>True</td>\n",
              "    </tr>\n",
              "    <tr>\n",
              "      <th>293</th>\n",
              "      <td>13</td>\n",
              "      <td>CASH_OUT</td>\n",
              "      <td>4022667.54</td>\n",
              "      <td>C79951219</td>\n",
              "      <td>4022667.54</td>\n",
              "      <td>0.00</td>\n",
              "      <td>C1499489682</td>\n",
              "      <td>80136.56</td>\n",
              "      <td>4057191.21</td>\n",
              "      <td>1</td>\n",
              "      <td>True</td>\n",
              "      <td>True</td>\n",
              "    </tr>\n",
              "  </tbody>\n",
              "</table>\n",
              "<p>294 rows × 12 columns</p>\n",
              "</div>\n",
              "      <button class=\"colab-df-convert\" onclick=\"convertToInteractive('df-d8e0009b-5ecc-40c2-9e3e-e6d4e7c7898a')\"\n",
              "              title=\"Convert this dataframe to an interactive table.\"\n",
              "              style=\"display:none;\">\n",
              "        \n",
              "  <svg xmlns=\"http://www.w3.org/2000/svg\" height=\"24px\"viewBox=\"0 0 24 24\"\n",
              "       width=\"24px\">\n",
              "    <path d=\"M0 0h24v24H0V0z\" fill=\"none\"/>\n",
              "    <path d=\"M18.56 5.44l.94 2.06.94-2.06 2.06-.94-2.06-.94-.94-2.06-.94 2.06-2.06.94zm-11 1L8.5 8.5l.94-2.06 2.06-.94-2.06-.94L8.5 2.5l-.94 2.06-2.06.94zm10 10l.94 2.06.94-2.06 2.06-.94-2.06-.94-.94-2.06-.94 2.06-2.06.94z\"/><path d=\"M17.41 7.96l-1.37-1.37c-.4-.4-.92-.59-1.43-.59-.52 0-1.04.2-1.43.59L10.3 9.45l-7.72 7.72c-.78.78-.78 2.05 0 2.83L4 21.41c.39.39.9.59 1.41.59.51 0 1.02-.2 1.41-.59l7.78-7.78 2.81-2.81c.8-.78.8-2.07 0-2.86zM5.41 20L4 18.59l7.72-7.72 1.47 1.35L5.41 20z\"/>\n",
              "  </svg>\n",
              "      </button>\n",
              "      \n",
              "  <style>\n",
              "    .colab-df-container {\n",
              "      display:flex;\n",
              "      flex-wrap:wrap;\n",
              "      gap: 12px;\n",
              "    }\n",
              "\n",
              "    .colab-df-convert {\n",
              "      background-color: #E8F0FE;\n",
              "      border: none;\n",
              "      border-radius: 50%;\n",
              "      cursor: pointer;\n",
              "      display: none;\n",
              "      fill: #1967D2;\n",
              "      height: 32px;\n",
              "      padding: 0 0 0 0;\n",
              "      width: 32px;\n",
              "    }\n",
              "\n",
              "    .colab-df-convert:hover {\n",
              "      background-color: #E2EBFA;\n",
              "      box-shadow: 0px 1px 2px rgba(60, 64, 67, 0.3), 0px 1px 3px 1px rgba(60, 64, 67, 0.15);\n",
              "      fill: #174EA6;\n",
              "    }\n",
              "\n",
              "    [theme=dark] .colab-df-convert {\n",
              "      background-color: #3B4455;\n",
              "      fill: #D2E3FC;\n",
              "    }\n",
              "\n",
              "    [theme=dark] .colab-df-convert:hover {\n",
              "      background-color: #434B5C;\n",
              "      box-shadow: 0px 1px 3px 1px rgba(0, 0, 0, 0.15);\n",
              "      filter: drop-shadow(0px 1px 2px rgba(0, 0, 0, 0.3));\n",
              "      fill: #FFFFFF;\n",
              "    }\n",
              "  </style>\n",
              "\n",
              "      <script>\n",
              "        const buttonEl =\n",
              "          document.querySelector('#df-d8e0009b-5ecc-40c2-9e3e-e6d4e7c7898a button.colab-df-convert');\n",
              "        buttonEl.style.display =\n",
              "          google.colab.kernel.accessAllowed ? 'block' : 'none';\n",
              "\n",
              "        async function convertToInteractive(key) {\n",
              "          const element = document.querySelector('#df-d8e0009b-5ecc-40c2-9e3e-e6d4e7c7898a');\n",
              "          const dataTable =\n",
              "            await google.colab.kernel.invokeFunction('convertToInteractive',\n",
              "                                                     [key], {});\n",
              "          if (!dataTable) return;\n",
              "\n",
              "          const docLinkHtml = 'Like what you see? Visit the ' +\n",
              "            '<a target=\"_blank\" href=https://colab.research.google.com/notebooks/data_table.ipynb>data table notebook</a>'\n",
              "            + ' to learn more about interactive tables.';\n",
              "          element.innerHTML = '';\n",
              "          dataTable['output_type'] = 'display_data';\n",
              "          await google.colab.output.renderOutput(dataTable, element);\n",
              "          const docLink = document.createElement('div');\n",
              "          docLink.innerHTML = docLinkHtml;\n",
              "          element.appendChild(docLink);\n",
              "        }\n",
              "      </script>\n",
              "    </div>\n",
              "  </div>\n",
              "  "
            ],
            "text/plain": [
              "     step      type      amount  ... isFraud  nameorig  namedest\n",
              "0       9  CASH_OUT   285087.30  ...       0      True      True\n",
              "1      11  TRANSFER   581810.04  ...       0      True      True\n",
              "2       9   PAYMENT    25729.17  ...       0      True     False\n",
              "3       9   PAYMENT    17663.67  ...       0      True     False\n",
              "4      10  TRANSFER   524201.64  ...       0      True      True\n",
              "..    ...       ...         ...  ...     ...       ...       ...\n",
              "289    13  CASH_OUT      408.00  ...       1      True      True\n",
              "290    13  TRANSFER    48375.02  ...       1      True      True\n",
              "291    13  CASH_OUT    48375.02  ...       1      True      True\n",
              "292    13  TRANSFER  4022667.54  ...       1      True      True\n",
              "293    13  CASH_OUT  4022667.54  ...       1      True      True\n",
              "\n",
              "[294 rows x 12 columns]"
            ]
          },
          "metadata": {},
          "execution_count": 19
        }
      ]
    },
    {
      "cell_type": "code",
      "metadata": {
        "id": "TDIVULH-0zsJ"
      },
      "source": [
        "features['hasDest'] = ~features['nameorig'].isnull()"
      ],
      "execution_count": 20,
      "outputs": []
    },
    {
      "cell_type": "code",
      "metadata": {
        "colab": {
          "base_uri": "https://localhost:8080/"
        },
        "id": "3fk3h0Iy2Nv8",
        "outputId": "66c347f7-6570-44cf-c038-f88f4757a020"
      },
      "source": [
        "new_df[\"type\"].unique()"
      ],
      "execution_count": 21,
      "outputs": [
        {
          "output_type": "execute_result",
          "data": {
            "text/plain": [
              "array(['PAYMENT', 'TRANSFER', 'CASH_OUT', 'DEBIT', 'CASH_IN'],\n",
              "      dtype=object)"
            ]
          },
          "metadata": {},
          "execution_count": 21
        }
      ]
    },
    {
      "cell_type": "code",
      "metadata": {
        "colab": {
          "base_uri": "https://localhost:8080/",
          "height": 423
        },
        "id": "16OWDd8C02oD",
        "outputId": "8d41c129-cbda-49ca-fde6-a208df510430"
      },
      "source": [
        "features"
      ],
      "execution_count": 22,
      "outputs": [
        {
          "output_type": "execute_result",
          "data": {
            "text/html": [
              "\n",
              "  <div id=\"df-afab4da6-431f-4bf6-98ac-849035c71b1e\">\n",
              "    <div class=\"colab-df-container\">\n",
              "      <div>\n",
              "<style scoped>\n",
              "    .dataframe tbody tr th:only-of-type {\n",
              "        vertical-align: middle;\n",
              "    }\n",
              "\n",
              "    .dataframe tbody tr th {\n",
              "        vertical-align: top;\n",
              "    }\n",
              "\n",
              "    .dataframe thead th {\n",
              "        text-align: right;\n",
              "    }\n",
              "</style>\n",
              "<table border=\"1\" class=\"dataframe\">\n",
              "  <thead>\n",
              "    <tr style=\"text-align: right;\">\n",
              "      <th></th>\n",
              "      <th>step</th>\n",
              "      <th>type</th>\n",
              "      <th>amount</th>\n",
              "      <th>nameOrig</th>\n",
              "      <th>oldbalanceOrg</th>\n",
              "      <th>newbalanceOrig</th>\n",
              "      <th>nameDest</th>\n",
              "      <th>oldbalanceDest</th>\n",
              "      <th>newbalanceDest</th>\n",
              "      <th>isFraud</th>\n",
              "      <th>nameorig</th>\n",
              "      <th>namedest</th>\n",
              "      <th>hasDest</th>\n",
              "    </tr>\n",
              "  </thead>\n",
              "  <tbody>\n",
              "    <tr>\n",
              "      <th>0</th>\n",
              "      <td>9</td>\n",
              "      <td>CASH_OUT</td>\n",
              "      <td>285087.30</td>\n",
              "      <td>C1427346769</td>\n",
              "      <td>0.00</td>\n",
              "      <td>0.00</td>\n",
              "      <td>C426784026</td>\n",
              "      <td>338644.86</td>\n",
              "      <td>1674917.08</td>\n",
              "      <td>0</td>\n",
              "      <td>True</td>\n",
              "      <td>True</td>\n",
              "      <td>True</td>\n",
              "    </tr>\n",
              "    <tr>\n",
              "      <th>1</th>\n",
              "      <td>11</td>\n",
              "      <td>TRANSFER</td>\n",
              "      <td>581810.04</td>\n",
              "      <td>C1531157872</td>\n",
              "      <td>0.00</td>\n",
              "      <td>0.00</td>\n",
              "      <td>C623476050</td>\n",
              "      <td>9991226.46</td>\n",
              "      <td>10749273.16</td>\n",
              "      <td>0</td>\n",
              "      <td>True</td>\n",
              "      <td>True</td>\n",
              "      <td>True</td>\n",
              "    </tr>\n",
              "    <tr>\n",
              "      <th>2</th>\n",
              "      <td>9</td>\n",
              "      <td>PAYMENT</td>\n",
              "      <td>25729.17</td>\n",
              "      <td>C1382712720</td>\n",
              "      <td>5065.58</td>\n",
              "      <td>0.00</td>\n",
              "      <td>M1928073278</td>\n",
              "      <td>0.00</td>\n",
              "      <td>0.00</td>\n",
              "      <td>0</td>\n",
              "      <td>True</td>\n",
              "      <td>False</td>\n",
              "      <td>True</td>\n",
              "    </tr>\n",
              "    <tr>\n",
              "      <th>3</th>\n",
              "      <td>9</td>\n",
              "      <td>PAYMENT</td>\n",
              "      <td>17663.67</td>\n",
              "      <td>C1471255996</td>\n",
              "      <td>1839626.39</td>\n",
              "      <td>1821962.72</td>\n",
              "      <td>M963562853</td>\n",
              "      <td>0.00</td>\n",
              "      <td>0.00</td>\n",
              "      <td>0</td>\n",
              "      <td>True</td>\n",
              "      <td>False</td>\n",
              "      <td>True</td>\n",
              "    </tr>\n",
              "    <tr>\n",
              "      <th>4</th>\n",
              "      <td>10</td>\n",
              "      <td>TRANSFER</td>\n",
              "      <td>524201.64</td>\n",
              "      <td>C534690797</td>\n",
              "      <td>0.00</td>\n",
              "      <td>0.00</td>\n",
              "      <td>C705487682</td>\n",
              "      <td>1770938.59</td>\n",
              "      <td>3631062.50</td>\n",
              "      <td>0</td>\n",
              "      <td>True</td>\n",
              "      <td>True</td>\n",
              "      <td>True</td>\n",
              "    </tr>\n",
              "    <tr>\n",
              "      <th>...</th>\n",
              "      <td>...</td>\n",
              "      <td>...</td>\n",
              "      <td>...</td>\n",
              "      <td>...</td>\n",
              "      <td>...</td>\n",
              "      <td>...</td>\n",
              "      <td>...</td>\n",
              "      <td>...</td>\n",
              "      <td>...</td>\n",
              "      <td>...</td>\n",
              "      <td>...</td>\n",
              "      <td>...</td>\n",
              "      <td>...</td>\n",
              "    </tr>\n",
              "    <tr>\n",
              "      <th>289</th>\n",
              "      <td>13</td>\n",
              "      <td>CASH_OUT</td>\n",
              "      <td>408.00</td>\n",
              "      <td>C1894004688</td>\n",
              "      <td>408.00</td>\n",
              "      <td>0.00</td>\n",
              "      <td>C1293978242</td>\n",
              "      <td>898297.85</td>\n",
              "      <td>1075854.14</td>\n",
              "      <td>1</td>\n",
              "      <td>True</td>\n",
              "      <td>True</td>\n",
              "      <td>True</td>\n",
              "    </tr>\n",
              "    <tr>\n",
              "      <th>290</th>\n",
              "      <td>13</td>\n",
              "      <td>TRANSFER</td>\n",
              "      <td>48375.02</td>\n",
              "      <td>C920803432</td>\n",
              "      <td>48375.02</td>\n",
              "      <td>0.00</td>\n",
              "      <td>C1767389067</td>\n",
              "      <td>0.00</td>\n",
              "      <td>0.00</td>\n",
              "      <td>1</td>\n",
              "      <td>True</td>\n",
              "      <td>True</td>\n",
              "      <td>True</td>\n",
              "    </tr>\n",
              "    <tr>\n",
              "      <th>291</th>\n",
              "      <td>13</td>\n",
              "      <td>CASH_OUT</td>\n",
              "      <td>48375.02</td>\n",
              "      <td>C1894578299</td>\n",
              "      <td>48375.02</td>\n",
              "      <td>0.00</td>\n",
              "      <td>C590035788</td>\n",
              "      <td>374803.26</td>\n",
              "      <td>658520.33</td>\n",
              "      <td>1</td>\n",
              "      <td>True</td>\n",
              "      <td>True</td>\n",
              "      <td>True</td>\n",
              "    </tr>\n",
              "    <tr>\n",
              "      <th>292</th>\n",
              "      <td>13</td>\n",
              "      <td>TRANSFER</td>\n",
              "      <td>4022667.54</td>\n",
              "      <td>C735463888</td>\n",
              "      <td>4022667.54</td>\n",
              "      <td>0.00</td>\n",
              "      <td>C1548348754</td>\n",
              "      <td>0.00</td>\n",
              "      <td>0.00</td>\n",
              "      <td>1</td>\n",
              "      <td>True</td>\n",
              "      <td>True</td>\n",
              "      <td>True</td>\n",
              "    </tr>\n",
              "    <tr>\n",
              "      <th>293</th>\n",
              "      <td>13</td>\n",
              "      <td>CASH_OUT</td>\n",
              "      <td>4022667.54</td>\n",
              "      <td>C79951219</td>\n",
              "      <td>4022667.54</td>\n",
              "      <td>0.00</td>\n",
              "      <td>C1499489682</td>\n",
              "      <td>80136.56</td>\n",
              "      <td>4057191.21</td>\n",
              "      <td>1</td>\n",
              "      <td>True</td>\n",
              "      <td>True</td>\n",
              "      <td>True</td>\n",
              "    </tr>\n",
              "  </tbody>\n",
              "</table>\n",
              "<p>294 rows × 13 columns</p>\n",
              "</div>\n",
              "      <button class=\"colab-df-convert\" onclick=\"convertToInteractive('df-afab4da6-431f-4bf6-98ac-849035c71b1e')\"\n",
              "              title=\"Convert this dataframe to an interactive table.\"\n",
              "              style=\"display:none;\">\n",
              "        \n",
              "  <svg xmlns=\"http://www.w3.org/2000/svg\" height=\"24px\"viewBox=\"0 0 24 24\"\n",
              "       width=\"24px\">\n",
              "    <path d=\"M0 0h24v24H0V0z\" fill=\"none\"/>\n",
              "    <path d=\"M18.56 5.44l.94 2.06.94-2.06 2.06-.94-2.06-.94-.94-2.06-.94 2.06-2.06.94zm-11 1L8.5 8.5l.94-2.06 2.06-.94-2.06-.94L8.5 2.5l-.94 2.06-2.06.94zm10 10l.94 2.06.94-2.06 2.06-.94-2.06-.94-.94-2.06-.94 2.06-2.06.94z\"/><path d=\"M17.41 7.96l-1.37-1.37c-.4-.4-.92-.59-1.43-.59-.52 0-1.04.2-1.43.59L10.3 9.45l-7.72 7.72c-.78.78-.78 2.05 0 2.83L4 21.41c.39.39.9.59 1.41.59.51 0 1.02-.2 1.41-.59l7.78-7.78 2.81-2.81c.8-.78.8-2.07 0-2.86zM5.41 20L4 18.59l7.72-7.72 1.47 1.35L5.41 20z\"/>\n",
              "  </svg>\n",
              "      </button>\n",
              "      \n",
              "  <style>\n",
              "    .colab-df-container {\n",
              "      display:flex;\n",
              "      flex-wrap:wrap;\n",
              "      gap: 12px;\n",
              "    }\n",
              "\n",
              "    .colab-df-convert {\n",
              "      background-color: #E8F0FE;\n",
              "      border: none;\n",
              "      border-radius: 50%;\n",
              "      cursor: pointer;\n",
              "      display: none;\n",
              "      fill: #1967D2;\n",
              "      height: 32px;\n",
              "      padding: 0 0 0 0;\n",
              "      width: 32px;\n",
              "    }\n",
              "\n",
              "    .colab-df-convert:hover {\n",
              "      background-color: #E2EBFA;\n",
              "      box-shadow: 0px 1px 2px rgba(60, 64, 67, 0.3), 0px 1px 3px 1px rgba(60, 64, 67, 0.15);\n",
              "      fill: #174EA6;\n",
              "    }\n",
              "\n",
              "    [theme=dark] .colab-df-convert {\n",
              "      background-color: #3B4455;\n",
              "      fill: #D2E3FC;\n",
              "    }\n",
              "\n",
              "    [theme=dark] .colab-df-convert:hover {\n",
              "      background-color: #434B5C;\n",
              "      box-shadow: 0px 1px 3px 1px rgba(0, 0, 0, 0.15);\n",
              "      filter: drop-shadow(0px 1px 2px rgba(0, 0, 0, 0.3));\n",
              "      fill: #FFFFFF;\n",
              "    }\n",
              "  </style>\n",
              "\n",
              "      <script>\n",
              "        const buttonEl =\n",
              "          document.querySelector('#df-afab4da6-431f-4bf6-98ac-849035c71b1e button.colab-df-convert');\n",
              "        buttonEl.style.display =\n",
              "          google.colab.kernel.accessAllowed ? 'block' : 'none';\n",
              "\n",
              "        async function convertToInteractive(key) {\n",
              "          const element = document.querySelector('#df-afab4da6-431f-4bf6-98ac-849035c71b1e');\n",
              "          const dataTable =\n",
              "            await google.colab.kernel.invokeFunction('convertToInteractive',\n",
              "                                                     [key], {});\n",
              "          if (!dataTable) return;\n",
              "\n",
              "          const docLinkHtml = 'Like what you see? Visit the ' +\n",
              "            '<a target=\"_blank\" href=https://colab.research.google.com/notebooks/data_table.ipynb>data table notebook</a>'\n",
              "            + ' to learn more about interactive tables.';\n",
              "          element.innerHTML = '';\n",
              "          dataTable['output_type'] = 'display_data';\n",
              "          await google.colab.output.renderOutput(dataTable, element);\n",
              "          const docLink = document.createElement('div');\n",
              "          docLink.innerHTML = docLinkHtml;\n",
              "          element.appendChild(docLink);\n",
              "        }\n",
              "      </script>\n",
              "    </div>\n",
              "  </div>\n",
              "  "
            ],
            "text/plain": [
              "     step      type      amount  ... nameorig  namedest  hasDest\n",
              "0       9  CASH_OUT   285087.30  ...     True      True     True\n",
              "1      11  TRANSFER   581810.04  ...     True      True     True\n",
              "2       9   PAYMENT    25729.17  ...     True     False     True\n",
              "3       9   PAYMENT    17663.67  ...     True     False     True\n",
              "4      10  TRANSFER   524201.64  ...     True      True     True\n",
              "..    ...       ...         ...  ...      ...       ...      ...\n",
              "289    13  CASH_OUT      408.00  ...     True      True     True\n",
              "290    13  TRANSFER    48375.02  ...     True      True     True\n",
              "291    13  CASH_OUT    48375.02  ...     True      True     True\n",
              "292    13  TRANSFER  4022667.54  ...     True      True     True\n",
              "293    13  CASH_OUT  4022667.54  ...     True      True     True\n",
              "\n",
              "[294 rows x 13 columns]"
            ]
          },
          "metadata": {},
          "execution_count": 22
        }
      ]
    },
    {
      "cell_type": "markdown",
      "metadata": {
        "id": "d4WNJb0Z1H4b"
      },
      "source": [
        "###**Encoding the categorical attributes of the dataset using one-hot encoding.**"
      ]
    },
    {
      "cell_type": "code",
      "metadata": {
        "id": "fPNiY1KN5W1x",
        "colab": {
          "base_uri": "https://localhost:8080/",
          "height": 423
        },
        "outputId": "75e910a7-69e1-4bcd-a6e6-085182619fbe"
      },
      "source": [
        "features = features.drop(columns=['nameOrig', 'nameDest'])\n",
        "features"
      ],
      "execution_count": 23,
      "outputs": [
        {
          "output_type": "execute_result",
          "data": {
            "text/html": [
              "\n",
              "  <div id=\"df-627447fb-f4a6-4f60-98b5-0424fa3da066\">\n",
              "    <div class=\"colab-df-container\">\n",
              "      <div>\n",
              "<style scoped>\n",
              "    .dataframe tbody tr th:only-of-type {\n",
              "        vertical-align: middle;\n",
              "    }\n",
              "\n",
              "    .dataframe tbody tr th {\n",
              "        vertical-align: top;\n",
              "    }\n",
              "\n",
              "    .dataframe thead th {\n",
              "        text-align: right;\n",
              "    }\n",
              "</style>\n",
              "<table border=\"1\" class=\"dataframe\">\n",
              "  <thead>\n",
              "    <tr style=\"text-align: right;\">\n",
              "      <th></th>\n",
              "      <th>step</th>\n",
              "      <th>type</th>\n",
              "      <th>amount</th>\n",
              "      <th>oldbalanceOrg</th>\n",
              "      <th>newbalanceOrig</th>\n",
              "      <th>oldbalanceDest</th>\n",
              "      <th>newbalanceDest</th>\n",
              "      <th>isFraud</th>\n",
              "      <th>nameorig</th>\n",
              "      <th>namedest</th>\n",
              "      <th>hasDest</th>\n",
              "    </tr>\n",
              "  </thead>\n",
              "  <tbody>\n",
              "    <tr>\n",
              "      <th>0</th>\n",
              "      <td>9</td>\n",
              "      <td>CASH_OUT</td>\n",
              "      <td>285087.30</td>\n",
              "      <td>0.00</td>\n",
              "      <td>0.00</td>\n",
              "      <td>338644.86</td>\n",
              "      <td>1674917.08</td>\n",
              "      <td>0</td>\n",
              "      <td>True</td>\n",
              "      <td>True</td>\n",
              "      <td>True</td>\n",
              "    </tr>\n",
              "    <tr>\n",
              "      <th>1</th>\n",
              "      <td>11</td>\n",
              "      <td>TRANSFER</td>\n",
              "      <td>581810.04</td>\n",
              "      <td>0.00</td>\n",
              "      <td>0.00</td>\n",
              "      <td>9991226.46</td>\n",
              "      <td>10749273.16</td>\n",
              "      <td>0</td>\n",
              "      <td>True</td>\n",
              "      <td>True</td>\n",
              "      <td>True</td>\n",
              "    </tr>\n",
              "    <tr>\n",
              "      <th>2</th>\n",
              "      <td>9</td>\n",
              "      <td>PAYMENT</td>\n",
              "      <td>25729.17</td>\n",
              "      <td>5065.58</td>\n",
              "      <td>0.00</td>\n",
              "      <td>0.00</td>\n",
              "      <td>0.00</td>\n",
              "      <td>0</td>\n",
              "      <td>True</td>\n",
              "      <td>False</td>\n",
              "      <td>True</td>\n",
              "    </tr>\n",
              "    <tr>\n",
              "      <th>3</th>\n",
              "      <td>9</td>\n",
              "      <td>PAYMENT</td>\n",
              "      <td>17663.67</td>\n",
              "      <td>1839626.39</td>\n",
              "      <td>1821962.72</td>\n",
              "      <td>0.00</td>\n",
              "      <td>0.00</td>\n",
              "      <td>0</td>\n",
              "      <td>True</td>\n",
              "      <td>False</td>\n",
              "      <td>True</td>\n",
              "    </tr>\n",
              "    <tr>\n",
              "      <th>4</th>\n",
              "      <td>10</td>\n",
              "      <td>TRANSFER</td>\n",
              "      <td>524201.64</td>\n",
              "      <td>0.00</td>\n",
              "      <td>0.00</td>\n",
              "      <td>1770938.59</td>\n",
              "      <td>3631062.50</td>\n",
              "      <td>0</td>\n",
              "      <td>True</td>\n",
              "      <td>True</td>\n",
              "      <td>True</td>\n",
              "    </tr>\n",
              "    <tr>\n",
              "      <th>...</th>\n",
              "      <td>...</td>\n",
              "      <td>...</td>\n",
              "      <td>...</td>\n",
              "      <td>...</td>\n",
              "      <td>...</td>\n",
              "      <td>...</td>\n",
              "      <td>...</td>\n",
              "      <td>...</td>\n",
              "      <td>...</td>\n",
              "      <td>...</td>\n",
              "      <td>...</td>\n",
              "    </tr>\n",
              "    <tr>\n",
              "      <th>289</th>\n",
              "      <td>13</td>\n",
              "      <td>CASH_OUT</td>\n",
              "      <td>408.00</td>\n",
              "      <td>408.00</td>\n",
              "      <td>0.00</td>\n",
              "      <td>898297.85</td>\n",
              "      <td>1075854.14</td>\n",
              "      <td>1</td>\n",
              "      <td>True</td>\n",
              "      <td>True</td>\n",
              "      <td>True</td>\n",
              "    </tr>\n",
              "    <tr>\n",
              "      <th>290</th>\n",
              "      <td>13</td>\n",
              "      <td>TRANSFER</td>\n",
              "      <td>48375.02</td>\n",
              "      <td>48375.02</td>\n",
              "      <td>0.00</td>\n",
              "      <td>0.00</td>\n",
              "      <td>0.00</td>\n",
              "      <td>1</td>\n",
              "      <td>True</td>\n",
              "      <td>True</td>\n",
              "      <td>True</td>\n",
              "    </tr>\n",
              "    <tr>\n",
              "      <th>291</th>\n",
              "      <td>13</td>\n",
              "      <td>CASH_OUT</td>\n",
              "      <td>48375.02</td>\n",
              "      <td>48375.02</td>\n",
              "      <td>0.00</td>\n",
              "      <td>374803.26</td>\n",
              "      <td>658520.33</td>\n",
              "      <td>1</td>\n",
              "      <td>True</td>\n",
              "      <td>True</td>\n",
              "      <td>True</td>\n",
              "    </tr>\n",
              "    <tr>\n",
              "      <th>292</th>\n",
              "      <td>13</td>\n",
              "      <td>TRANSFER</td>\n",
              "      <td>4022667.54</td>\n",
              "      <td>4022667.54</td>\n",
              "      <td>0.00</td>\n",
              "      <td>0.00</td>\n",
              "      <td>0.00</td>\n",
              "      <td>1</td>\n",
              "      <td>True</td>\n",
              "      <td>True</td>\n",
              "      <td>True</td>\n",
              "    </tr>\n",
              "    <tr>\n",
              "      <th>293</th>\n",
              "      <td>13</td>\n",
              "      <td>CASH_OUT</td>\n",
              "      <td>4022667.54</td>\n",
              "      <td>4022667.54</td>\n",
              "      <td>0.00</td>\n",
              "      <td>80136.56</td>\n",
              "      <td>4057191.21</td>\n",
              "      <td>1</td>\n",
              "      <td>True</td>\n",
              "      <td>True</td>\n",
              "      <td>True</td>\n",
              "    </tr>\n",
              "  </tbody>\n",
              "</table>\n",
              "<p>294 rows × 11 columns</p>\n",
              "</div>\n",
              "      <button class=\"colab-df-convert\" onclick=\"convertToInteractive('df-627447fb-f4a6-4f60-98b5-0424fa3da066')\"\n",
              "              title=\"Convert this dataframe to an interactive table.\"\n",
              "              style=\"display:none;\">\n",
              "        \n",
              "  <svg xmlns=\"http://www.w3.org/2000/svg\" height=\"24px\"viewBox=\"0 0 24 24\"\n",
              "       width=\"24px\">\n",
              "    <path d=\"M0 0h24v24H0V0z\" fill=\"none\"/>\n",
              "    <path d=\"M18.56 5.44l.94 2.06.94-2.06 2.06-.94-2.06-.94-.94-2.06-.94 2.06-2.06.94zm-11 1L8.5 8.5l.94-2.06 2.06-.94-2.06-.94L8.5 2.5l-.94 2.06-2.06.94zm10 10l.94 2.06.94-2.06 2.06-.94-2.06-.94-.94-2.06-.94 2.06-2.06.94z\"/><path d=\"M17.41 7.96l-1.37-1.37c-.4-.4-.92-.59-1.43-.59-.52 0-1.04.2-1.43.59L10.3 9.45l-7.72 7.72c-.78.78-.78 2.05 0 2.83L4 21.41c.39.39.9.59 1.41.59.51 0 1.02-.2 1.41-.59l7.78-7.78 2.81-2.81c.8-.78.8-2.07 0-2.86zM5.41 20L4 18.59l7.72-7.72 1.47 1.35L5.41 20z\"/>\n",
              "  </svg>\n",
              "      </button>\n",
              "      \n",
              "  <style>\n",
              "    .colab-df-container {\n",
              "      display:flex;\n",
              "      flex-wrap:wrap;\n",
              "      gap: 12px;\n",
              "    }\n",
              "\n",
              "    .colab-df-convert {\n",
              "      background-color: #E8F0FE;\n",
              "      border: none;\n",
              "      border-radius: 50%;\n",
              "      cursor: pointer;\n",
              "      display: none;\n",
              "      fill: #1967D2;\n",
              "      height: 32px;\n",
              "      padding: 0 0 0 0;\n",
              "      width: 32px;\n",
              "    }\n",
              "\n",
              "    .colab-df-convert:hover {\n",
              "      background-color: #E2EBFA;\n",
              "      box-shadow: 0px 1px 2px rgba(60, 64, 67, 0.3), 0px 1px 3px 1px rgba(60, 64, 67, 0.15);\n",
              "      fill: #174EA6;\n",
              "    }\n",
              "\n",
              "    [theme=dark] .colab-df-convert {\n",
              "      background-color: #3B4455;\n",
              "      fill: #D2E3FC;\n",
              "    }\n",
              "\n",
              "    [theme=dark] .colab-df-convert:hover {\n",
              "      background-color: #434B5C;\n",
              "      box-shadow: 0px 1px 3px 1px rgba(0, 0, 0, 0.15);\n",
              "      filter: drop-shadow(0px 1px 2px rgba(0, 0, 0, 0.3));\n",
              "      fill: #FFFFFF;\n",
              "    }\n",
              "  </style>\n",
              "\n",
              "      <script>\n",
              "        const buttonEl =\n",
              "          document.querySelector('#df-627447fb-f4a6-4f60-98b5-0424fa3da066 button.colab-df-convert');\n",
              "        buttonEl.style.display =\n",
              "          google.colab.kernel.accessAllowed ? 'block' : 'none';\n",
              "\n",
              "        async function convertToInteractive(key) {\n",
              "          const element = document.querySelector('#df-627447fb-f4a6-4f60-98b5-0424fa3da066');\n",
              "          const dataTable =\n",
              "            await google.colab.kernel.invokeFunction('convertToInteractive',\n",
              "                                                     [key], {});\n",
              "          if (!dataTable) return;\n",
              "\n",
              "          const docLinkHtml = 'Like what you see? Visit the ' +\n",
              "            '<a target=\"_blank\" href=https://colab.research.google.com/notebooks/data_table.ipynb>data table notebook</a>'\n",
              "            + ' to learn more about interactive tables.';\n",
              "          element.innerHTML = '';\n",
              "          dataTable['output_type'] = 'display_data';\n",
              "          await google.colab.output.renderOutput(dataTable, element);\n",
              "          const docLink = document.createElement('div');\n",
              "          docLink.innerHTML = docLinkHtml;\n",
              "          element.appendChild(docLink);\n",
              "        }\n",
              "      </script>\n",
              "    </div>\n",
              "  </div>\n",
              "  "
            ],
            "text/plain": [
              "     step      type      amount  ...  nameorig  namedest  hasDest\n",
              "0       9  CASH_OUT   285087.30  ...      True      True     True\n",
              "1      11  TRANSFER   581810.04  ...      True      True     True\n",
              "2       9   PAYMENT    25729.17  ...      True     False     True\n",
              "3       9   PAYMENT    17663.67  ...      True     False     True\n",
              "4      10  TRANSFER   524201.64  ...      True      True     True\n",
              "..    ...       ...         ...  ...       ...       ...      ...\n",
              "289    13  CASH_OUT      408.00  ...      True      True     True\n",
              "290    13  TRANSFER    48375.02  ...      True      True     True\n",
              "291    13  CASH_OUT    48375.02  ...      True      True     True\n",
              "292    13  TRANSFER  4022667.54  ...      True      True     True\n",
              "293    13  CASH_OUT  4022667.54  ...      True      True     True\n",
              "\n",
              "[294 rows x 11 columns]"
            ]
          },
          "metadata": {},
          "execution_count": 23
        }
      ]
    },
    {
      "cell_type": "code",
      "metadata": {
        "colab": {
          "base_uri": "https://localhost:8080/",
          "height": 270
        },
        "id": "-vu2c0Fn1QdR",
        "outputId": "564213c6-d51f-43ef-d6f9-3285b41f9d2c"
      },
      "source": [
        "categorical_dict = {\n",
        "    \"step\": \"category\",\n",
        "    \"nameorig\": \"category\",\n",
        "    \"namedest\": \"category\",\n",
        "    \"hasDest\": \"category\",\n",
        "    \"type\": \"category\"\n",
        "}\n",
        "\n",
        "features = features.astype(categorical_dict)\n",
        "\n",
        "for col in categorical_dict.keys():\n",
        "  features = features.join(pd.get_dummies(features[[col]], prefix=col)).drop([col], axis=1)\n",
        "\n",
        "features.head()"
      ],
      "execution_count": 24,
      "outputs": [
        {
          "output_type": "execute_result",
          "data": {
            "text/html": [
              "\n",
              "  <div id=\"df-f06f1acd-99a9-44be-8c43-ecb8084ca399\">\n",
              "    <div class=\"colab-df-container\">\n",
              "      <div>\n",
              "<style scoped>\n",
              "    .dataframe tbody tr th:only-of-type {\n",
              "        vertical-align: middle;\n",
              "    }\n",
              "\n",
              "    .dataframe tbody tr th {\n",
              "        vertical-align: top;\n",
              "    }\n",
              "\n",
              "    .dataframe thead th {\n",
              "        text-align: right;\n",
              "    }\n",
              "</style>\n",
              "<table border=\"1\" class=\"dataframe\">\n",
              "  <thead>\n",
              "    <tr style=\"text-align: right;\">\n",
              "      <th></th>\n",
              "      <th>amount</th>\n",
              "      <th>oldbalanceOrg</th>\n",
              "      <th>newbalanceOrig</th>\n",
              "      <th>oldbalanceDest</th>\n",
              "      <th>newbalanceDest</th>\n",
              "      <th>isFraud</th>\n",
              "      <th>step_1</th>\n",
              "      <th>step_2</th>\n",
              "      <th>step_3</th>\n",
              "      <th>step_4</th>\n",
              "      <th>step_5</th>\n",
              "      <th>step_6</th>\n",
              "      <th>step_7</th>\n",
              "      <th>step_8</th>\n",
              "      <th>step_9</th>\n",
              "      <th>step_10</th>\n",
              "      <th>step_11</th>\n",
              "      <th>step_12</th>\n",
              "      <th>step_13</th>\n",
              "      <th>nameorig_True</th>\n",
              "      <th>namedest_False</th>\n",
              "      <th>namedest_True</th>\n",
              "      <th>hasDest_True</th>\n",
              "      <th>type_CASH_IN</th>\n",
              "      <th>type_CASH_OUT</th>\n",
              "      <th>type_DEBIT</th>\n",
              "      <th>type_PAYMENT</th>\n",
              "      <th>type_TRANSFER</th>\n",
              "    </tr>\n",
              "  </thead>\n",
              "  <tbody>\n",
              "    <tr>\n",
              "      <th>0</th>\n",
              "      <td>285087.30</td>\n",
              "      <td>0.00</td>\n",
              "      <td>0.00</td>\n",
              "      <td>338644.86</td>\n",
              "      <td>1674917.08</td>\n",
              "      <td>0</td>\n",
              "      <td>0</td>\n",
              "      <td>0</td>\n",
              "      <td>0</td>\n",
              "      <td>0</td>\n",
              "      <td>0</td>\n",
              "      <td>0</td>\n",
              "      <td>0</td>\n",
              "      <td>0</td>\n",
              "      <td>1</td>\n",
              "      <td>0</td>\n",
              "      <td>0</td>\n",
              "      <td>0</td>\n",
              "      <td>0</td>\n",
              "      <td>1</td>\n",
              "      <td>0</td>\n",
              "      <td>1</td>\n",
              "      <td>1</td>\n",
              "      <td>0</td>\n",
              "      <td>1</td>\n",
              "      <td>0</td>\n",
              "      <td>0</td>\n",
              "      <td>0</td>\n",
              "    </tr>\n",
              "    <tr>\n",
              "      <th>1</th>\n",
              "      <td>581810.04</td>\n",
              "      <td>0.00</td>\n",
              "      <td>0.00</td>\n",
              "      <td>9991226.46</td>\n",
              "      <td>10749273.16</td>\n",
              "      <td>0</td>\n",
              "      <td>0</td>\n",
              "      <td>0</td>\n",
              "      <td>0</td>\n",
              "      <td>0</td>\n",
              "      <td>0</td>\n",
              "      <td>0</td>\n",
              "      <td>0</td>\n",
              "      <td>0</td>\n",
              "      <td>0</td>\n",
              "      <td>0</td>\n",
              "      <td>1</td>\n",
              "      <td>0</td>\n",
              "      <td>0</td>\n",
              "      <td>1</td>\n",
              "      <td>0</td>\n",
              "      <td>1</td>\n",
              "      <td>1</td>\n",
              "      <td>0</td>\n",
              "      <td>0</td>\n",
              "      <td>0</td>\n",
              "      <td>0</td>\n",
              "      <td>1</td>\n",
              "    </tr>\n",
              "    <tr>\n",
              "      <th>2</th>\n",
              "      <td>25729.17</td>\n",
              "      <td>5065.58</td>\n",
              "      <td>0.00</td>\n",
              "      <td>0.00</td>\n",
              "      <td>0.00</td>\n",
              "      <td>0</td>\n",
              "      <td>0</td>\n",
              "      <td>0</td>\n",
              "      <td>0</td>\n",
              "      <td>0</td>\n",
              "      <td>0</td>\n",
              "      <td>0</td>\n",
              "      <td>0</td>\n",
              "      <td>0</td>\n",
              "      <td>1</td>\n",
              "      <td>0</td>\n",
              "      <td>0</td>\n",
              "      <td>0</td>\n",
              "      <td>0</td>\n",
              "      <td>1</td>\n",
              "      <td>1</td>\n",
              "      <td>0</td>\n",
              "      <td>1</td>\n",
              "      <td>0</td>\n",
              "      <td>0</td>\n",
              "      <td>0</td>\n",
              "      <td>1</td>\n",
              "      <td>0</td>\n",
              "    </tr>\n",
              "    <tr>\n",
              "      <th>3</th>\n",
              "      <td>17663.67</td>\n",
              "      <td>1839626.39</td>\n",
              "      <td>1821962.72</td>\n",
              "      <td>0.00</td>\n",
              "      <td>0.00</td>\n",
              "      <td>0</td>\n",
              "      <td>0</td>\n",
              "      <td>0</td>\n",
              "      <td>0</td>\n",
              "      <td>0</td>\n",
              "      <td>0</td>\n",
              "      <td>0</td>\n",
              "      <td>0</td>\n",
              "      <td>0</td>\n",
              "      <td>1</td>\n",
              "      <td>0</td>\n",
              "      <td>0</td>\n",
              "      <td>0</td>\n",
              "      <td>0</td>\n",
              "      <td>1</td>\n",
              "      <td>1</td>\n",
              "      <td>0</td>\n",
              "      <td>1</td>\n",
              "      <td>0</td>\n",
              "      <td>0</td>\n",
              "      <td>0</td>\n",
              "      <td>1</td>\n",
              "      <td>0</td>\n",
              "    </tr>\n",
              "    <tr>\n",
              "      <th>4</th>\n",
              "      <td>524201.64</td>\n",
              "      <td>0.00</td>\n",
              "      <td>0.00</td>\n",
              "      <td>1770938.59</td>\n",
              "      <td>3631062.50</td>\n",
              "      <td>0</td>\n",
              "      <td>0</td>\n",
              "      <td>0</td>\n",
              "      <td>0</td>\n",
              "      <td>0</td>\n",
              "      <td>0</td>\n",
              "      <td>0</td>\n",
              "      <td>0</td>\n",
              "      <td>0</td>\n",
              "      <td>0</td>\n",
              "      <td>1</td>\n",
              "      <td>0</td>\n",
              "      <td>0</td>\n",
              "      <td>0</td>\n",
              "      <td>1</td>\n",
              "      <td>0</td>\n",
              "      <td>1</td>\n",
              "      <td>1</td>\n",
              "      <td>0</td>\n",
              "      <td>0</td>\n",
              "      <td>0</td>\n",
              "      <td>0</td>\n",
              "      <td>1</td>\n",
              "    </tr>\n",
              "  </tbody>\n",
              "</table>\n",
              "</div>\n",
              "      <button class=\"colab-df-convert\" onclick=\"convertToInteractive('df-f06f1acd-99a9-44be-8c43-ecb8084ca399')\"\n",
              "              title=\"Convert this dataframe to an interactive table.\"\n",
              "              style=\"display:none;\">\n",
              "        \n",
              "  <svg xmlns=\"http://www.w3.org/2000/svg\" height=\"24px\"viewBox=\"0 0 24 24\"\n",
              "       width=\"24px\">\n",
              "    <path d=\"M0 0h24v24H0V0z\" fill=\"none\"/>\n",
              "    <path d=\"M18.56 5.44l.94 2.06.94-2.06 2.06-.94-2.06-.94-.94-2.06-.94 2.06-2.06.94zm-11 1L8.5 8.5l.94-2.06 2.06-.94-2.06-.94L8.5 2.5l-.94 2.06-2.06.94zm10 10l.94 2.06.94-2.06 2.06-.94-2.06-.94-.94-2.06-.94 2.06-2.06.94z\"/><path d=\"M17.41 7.96l-1.37-1.37c-.4-.4-.92-.59-1.43-.59-.52 0-1.04.2-1.43.59L10.3 9.45l-7.72 7.72c-.78.78-.78 2.05 0 2.83L4 21.41c.39.39.9.59 1.41.59.51 0 1.02-.2 1.41-.59l7.78-7.78 2.81-2.81c.8-.78.8-2.07 0-2.86zM5.41 20L4 18.59l7.72-7.72 1.47 1.35L5.41 20z\"/>\n",
              "  </svg>\n",
              "      </button>\n",
              "      \n",
              "  <style>\n",
              "    .colab-df-container {\n",
              "      display:flex;\n",
              "      flex-wrap:wrap;\n",
              "      gap: 12px;\n",
              "    }\n",
              "\n",
              "    .colab-df-convert {\n",
              "      background-color: #E8F0FE;\n",
              "      border: none;\n",
              "      border-radius: 50%;\n",
              "      cursor: pointer;\n",
              "      display: none;\n",
              "      fill: #1967D2;\n",
              "      height: 32px;\n",
              "      padding: 0 0 0 0;\n",
              "      width: 32px;\n",
              "    }\n",
              "\n",
              "    .colab-df-convert:hover {\n",
              "      background-color: #E2EBFA;\n",
              "      box-shadow: 0px 1px 2px rgba(60, 64, 67, 0.3), 0px 1px 3px 1px rgba(60, 64, 67, 0.15);\n",
              "      fill: #174EA6;\n",
              "    }\n",
              "\n",
              "    [theme=dark] .colab-df-convert {\n",
              "      background-color: #3B4455;\n",
              "      fill: #D2E3FC;\n",
              "    }\n",
              "\n",
              "    [theme=dark] .colab-df-convert:hover {\n",
              "      background-color: #434B5C;\n",
              "      box-shadow: 0px 1px 3px 1px rgba(0, 0, 0, 0.15);\n",
              "      filter: drop-shadow(0px 1px 2px rgba(0, 0, 0, 0.3));\n",
              "      fill: #FFFFFF;\n",
              "    }\n",
              "  </style>\n",
              "\n",
              "      <script>\n",
              "        const buttonEl =\n",
              "          document.querySelector('#df-f06f1acd-99a9-44be-8c43-ecb8084ca399 button.colab-df-convert');\n",
              "        buttonEl.style.display =\n",
              "          google.colab.kernel.accessAllowed ? 'block' : 'none';\n",
              "\n",
              "        async function convertToInteractive(key) {\n",
              "          const element = document.querySelector('#df-f06f1acd-99a9-44be-8c43-ecb8084ca399');\n",
              "          const dataTable =\n",
              "            await google.colab.kernel.invokeFunction('convertToInteractive',\n",
              "                                                     [key], {});\n",
              "          if (!dataTable) return;\n",
              "\n",
              "          const docLinkHtml = 'Like what you see? Visit the ' +\n",
              "            '<a target=\"_blank\" href=https://colab.research.google.com/notebooks/data_table.ipynb>data table notebook</a>'\n",
              "            + ' to learn more about interactive tables.';\n",
              "          element.innerHTML = '';\n",
              "          dataTable['output_type'] = 'display_data';\n",
              "          await google.colab.output.renderOutput(dataTable, element);\n",
              "          const docLink = document.createElement('div');\n",
              "          docLink.innerHTML = docLinkHtml;\n",
              "          element.appendChild(docLink);\n",
              "        }\n",
              "      </script>\n",
              "    </div>\n",
              "  </div>\n",
              "  "
            ],
            "text/plain": [
              "      amount  oldbalanceOrg  ...  type_PAYMENT  type_TRANSFER\n",
              "0  285087.30           0.00  ...             0              0\n",
              "1  581810.04           0.00  ...             0              1\n",
              "2   25729.17        5065.58  ...             1              0\n",
              "3   17663.67     1839626.39  ...             1              0\n",
              "4  524201.64           0.00  ...             0              1\n",
              "\n",
              "[5 rows x 28 columns]"
            ]
          },
          "metadata": {},
          "execution_count": 24
        }
      ]
    },
    {
      "cell_type": "markdown",
      "metadata": {
        "id": "zq9QKEM25eMY"
      },
      "source": [
        "##**Data Modeling**\n",
        "\n",
        "We will first split the data into training and test sets, with a 70/30 split."
      ]
    },
    {
      "cell_type": "code",
      "metadata": {
        "id": "y3jLqIue5vXQ"
      },
      "source": [
        "y = features[\"isFraud\"]\n",
        "X = features.drop(columns=[\"isFraud\"])"
      ],
      "execution_count": 25,
      "outputs": []
    },
    {
      "cell_type": "code",
      "metadata": {
        "colab": {
          "base_uri": "https://localhost:8080/"
        },
        "id": "MBsPOosP5rEt",
        "outputId": "17af3fc0-14d1-42b1-866c-f5ce013ef7e4"
      },
      "source": [
        "X_train, X_test, y_train, y_test = train_test_split(X, y, test_size=0.3, random_state=1)\n",
        "print(X_train.shape)\n",
        "print(y_train.shape)\n",
        "print(X_test.shape)\n",
        "print(y_test.shape)"
      ],
      "execution_count": 26,
      "outputs": [
        {
          "output_type": "stream",
          "name": "stdout",
          "text": [
            "(205, 27)\n",
            "(205,)\n",
            "(89, 27)\n",
            "(89,)\n"
          ]
        }
      ]
    },
    {
      "cell_type": "markdown",
      "source": [
        "###**Function to print the classification report for each model**"
      ],
      "metadata": {
        "id": "l3hrzolAMnmB"
      }
    },
    {
      "cell_type": "code",
      "source": [
        "def metrics(actuals, predictions):\n",
        "    print(\"Accuracy: {:.5f}\".format(accuracy_score(actuals, predictions)))\n",
        "    print(\"Precision: {:.5f}\".format(precision_score(actuals, predictions)))\n",
        "    print(\"Recall: {:.5f}\".format(recall_score(actuals, predictions)))\n",
        "    print(\"F1-score: {:.5f}\".format(f1_score(actuals, predictions)))"
      ],
      "metadata": {
        "id": "lm37_blHK-mT"
      },
      "execution_count": 27,
      "outputs": []
    },
    {
      "cell_type": "markdown",
      "source": [
        "## **1.Decision Tree modelling**"
      ],
      "metadata": {
        "id": "I-G7iTcuMNvR"
      }
    },
    {
      "cell_type": "code",
      "source": [
        "dt = DecisionTreeClassifier()\n",
        "dt.fit(X_train, y_train)\n",
        "y_pred = dt.predict(X_test)\n",
        "cnf_matrix = confusion_matrix(y_test, y_pred)\n",
        "print('Evaluation of Decision Tree ')\n",
        "print()\n",
        "metrics(y_test, y_pred.round())\n",
        "dt_f1_score = f1_score(y_test, y_pred)\n",
        "sns.heatmap(pd.DataFrame(cnf_matrix), annot=True, cmap=\"YlGnBu\", fmt='g')\n",
        "plt.ylabel('Actual Label')\n",
        "plt.xlabel('Predicted Label')"
      ],
      "metadata": {
        "colab": {
          "base_uri": "https://localhost:8080/",
          "height": 405
        },
        "id": "58QBjaePJo5z",
        "outputId": "3f9bd1ba-0f15-420e-9799-d9fd1442f4e9"
      },
      "execution_count": 28,
      "outputs": [
        {
          "output_type": "stream",
          "name": "stdout",
          "text": [
            "Evaluation of Decision Tree \n",
            "\n",
            "Accuracy: 0.95506\n",
            "Precision: 0.97826\n",
            "Recall: 0.93750\n",
            "F1-score: 0.95745\n"
          ]
        },
        {
          "output_type": "execute_result",
          "data": {
            "text/plain": [
              "Text(0.5, 15.0, 'Predicted Label')"
            ]
          },
          "metadata": {},
          "execution_count": 28
        },
        {
          "output_type": "display_data",
          "data": {
            "image/png": "[encoded data removed]",
            "text/plain": [
              "<Figure size 432x288 with 2 Axes>"
            ]
          },
          "metadata": {
            "needs_background": "light"
          }
        }
      ]
    },
    {
      "cell_type": "markdown",
      "source": [
        "##**2.Random Forest**"
      ],
      "metadata": {
        "id": "9zEMSYmKNdFj"
      }
    },
    {
      "cell_type": "code",
      "source": [
        "rf = RandomForestClassifier()\n",
        "rf.fit(X_train, y_train)\n",
        "y_pred = rf.predict(X_test)\n",
        "rf_cnf_matrix = confusion_matrix(y_test, y_pred)\n",
        "print('Evaluation of Random Forest Model ')\n",
        "print()\n",
        "metrics(y_test, y_pred.round())\n",
        "rf_f1_score = f1_score(y_test, y_pred)\n",
        "sns.heatmap(pd.DataFrame(rf_cnf_matrix), annot=True, cmap=\"YlGnBu\", fmt='g')\n",
        "plt.ylabel('Actual Label')\n",
        "plt.xlabel('Predicted Label')"
      ],
      "metadata": {
        "colab": {
          "base_uri": "https://localhost:8080/",
          "height": 405
        },
        "id": "aE_DRNJTNb1D",
        "outputId": "19eb8ef8-1a3c-4654-c49f-0fae779a5446"
      },
      "execution_count": 29,
      "outputs": [
        {
          "output_type": "stream",
          "name": "stdout",
          "text": [
            "Evaluation of Random Forest Model \n",
            "\n",
            "Accuracy: 0.88764\n",
            "Precision: 0.95238\n",
            "Recall: 0.83333\n",
            "F1-score: 0.88889\n"
          ]
        },
        {
          "output_type": "execute_result",
          "data": {
            "text/plain": [
              "Text(0.5, 15.0, 'Predicted Label')"
            ]
          },
          "metadata": {},
          "execution_count": 29
        },
        {
          "output_type": "display_data",
          "data": {
            "image/png": "[encoded data removed]",
            "text/plain": [
              "<Figure size 432x288 with 2 Axes>"
            ]
          },
          "metadata": {
            "needs_background": "light"
          }
        }
      ]
    },
    {
      "cell_type": "markdown",
      "source": [
        "##**3.Logistic Regression**"
      ],
      "metadata": {
        "id": "9YRrf8G6NzRq"
      }
    },
    {
      "cell_type": "code",
      "source": [
        "logreg = LogisticRegression(solver='liblinear')\n",
        "logreg.fit(X_train, y_train)\n",
        "y_pred = logreg.predict(X_test)\n",
        "logreg_cnf_matrix = confusion_matrix(y_test, y_pred)\n",
        "print('Evaluation of Logistic Regression Model After SMOT')\n",
        "print()\n",
        "metrics(y_test, y_pred.round())\n",
        "logreg_f1_score = f1_score(y_test, y_pred)\n",
        "sns.heatmap(pd.DataFrame(logreg_cnf_matrix), annot=True, cmap=\"YlGnBu\", fmt='g')\n",
        "plt.ylabel('Actual Label')\n",
        "plt.xlabel('Predicted Label')"
      ],
      "metadata": {
        "colab": {
          "base_uri": "https://localhost:8080/",
          "height": 401
        },
        "id": "QYiz2yp9PLoD",
        "outputId": "e4086b40-83cb-4a92-8a5f-b480aeb1dada"
      },
      "execution_count": 30,
      "outputs": [
        {
          "output_type": "stream",
          "name": "stdout",
          "text": [
            "Evaluation of Logistic Regression Model After SMOT\n",
            "\n",
            "Accuracy: 0.91011\n",
            "Precision: 0.93478\n",
            "Recall: 0.89583\n",
            "F1-score: 0.91489\n"
          ]
        },
        {
          "output_type": "execute_result",
          "data": {
            "text/plain": [
              "Text(0.5, 15.0, 'Predicted Label')"
            ]
          },
          "metadata": {},
          "execution_count": 30
        },
        {
          "output_type": "display_data",
          "data": {
            "image/png": "[encoded data removed]",
            "text/plain": [
              "<Figure size 432x288 with 2 Axes>"
            ]
          },
          "metadata": {
            "needs_background": "light"
          }
        }
      ]
    },
    {
      "cell_type": "markdown",
      "source": [
        "## **4.SVM classifier using SVC class**"
      ],
      "metadata": {
        "id": "rSFecwriPcPJ"
      }
    },
    {
      "cell_type": "markdown",
      "source": [
        "#### **Feature Scaling before applying it to SVM Classifier**"
      ],
      "metadata": {
        "id": "Xk89O1W7b0za"
      }
    },
    {
      "cell_type": "code",
      "source": [
        "sc = StandardScaler()\n",
        "sc.fit(X_train)\n",
        "X_train_std = sc.transform(X_train)\n",
        "X_test_std = sc.transform(X_test)"
      ],
      "metadata": {
        "id": "RMCDsE_-bxk2"
      },
      "execution_count": 31,
      "outputs": []
    },
    {
      "cell_type": "code",
      "source": [
        "svm = SVC(kernel= 'linear', random_state=1)\n",
        "svm.fit(X_train_std, y_train)\n",
        "y_pred = rf.predict(X_test_std)\n",
        "svm_cnf_matrix = confusion_matrix(y_test, y_pred)\n",
        "print('Evaluation of SVM classifier Model ')\n",
        "print()\n",
        "metrics(y_test, y_pred.round())\n",
        "svm_f1_score = f1_score(y_test, y_pred)\n",
        "sns.heatmap(pd.DataFrame(svm_cnf_matrix), annot=True, cmap=\"YlGnBu\", fmt='g')\n",
        "plt.ylabel('Actual Label')\n",
        "plt.xlabel('Predicted Label')"
      ],
      "metadata": {
        "colab": {
          "base_uri": "https://localhost:8080/",
          "height": 435
        },
        "id": "OoHl8QmiQCWG",
        "outputId": "edb9ec95-4569-4736-96ca-434ef3ac93b1"
      },
      "execution_count": 32,
      "outputs": [
        {
          "output_type": "stream",
          "name": "stdout",
          "text": [
            "Evaluation of SVM classifier Model \n",
            "\n",
            "Accuracy: 0.69663\n",
            "Precision: 0.83871\n",
            "Recall: 0.54167\n",
            "F1-score: 0.65823\n"
          ]
        },
        {
          "output_type": "stream",
          "name": "stderr",
          "text": [
            "/usr/local/lib/python3.7/dist-packages/sklearn/base.py:446: UserWarning: X does not have valid feature names, but RandomForestClassifier was fitted with feature names\n",
            "  \"X does not have valid feature names, but\"\n"
          ]
        },
        {
          "output_type": "execute_result",
          "data": {
            "text/plain": [
              "Text(0.5, 15.0, 'Predicted Label')"
            ]
          },
          "metadata": {},
          "execution_count": 32
        },
        {
          "output_type": "display_data",
          "data": {
            "image/png": "[encoded data removed]",
            "text/plain": [
              "<Figure size 432x288 with 2 Axes>"
            ]
          },
          "metadata": {
            "needs_background": "light"
          }
        }
      ]
    },
    {
      "cell_type": "markdown",
      "source": [
        "##**5.Neural Network**"
      ],
      "metadata": {
        "id": "Zxv8pVsxR7Mr"
      }
    },
    {
      "cell_type": "code",
      "source": [
        "n_inputs = X_train.shape[1]"
      ],
      "metadata": {
        "id": "qKhkCXZ-R_eI"
      },
      "execution_count": 33,
      "outputs": []
    },
    {
      "cell_type": "code",
      "source": [
        "model = Sequential([\n",
        "    Dense(n_inputs, input_shape=(n_inputs, ), activation='relu'),\n",
        "    Dense(32, activation='relu'),\n",
        "    Dense(2, activation='softmax')])\n",
        "model.compile(optimizer='Adam', loss='sparse_categorical_crossentropy', metrics=['accuracy'])\n",
        "model.fit(X_train, y_train, validation_split=0.2, batch_size=300, epochs=20, shuffle=True, verbose=2)"
      ],
      "metadata": {
        "colab": {
          "base_uri": "https://localhost:8080/"
        },
        "id": "cgr73R3xSE1U",
        "outputId": "df135353-7c6f-4e4b-8fe7-55fb244aa1fe"
      },
      "execution_count": 34,
      "outputs": [
        {
          "output_type": "stream",
          "name": "stdout",
          "text": [
            "Epoch 1/20\n",
            "1/1 - 1s - loss: 256323.2656 - accuracy: 0.4512 - val_loss: 295912.3438 - val_accuracy: 0.3171 - 949ms/epoch - 949ms/step\n",
            "Epoch 2/20\n",
            "1/1 - 0s - loss: 230729.9062 - accuracy: 0.4085 - val_loss: 267785.4375 - val_accuracy: 0.2927 - 29ms/epoch - 29ms/step\n",
            "Epoch 3/20\n",
            "1/1 - 0s - loss: 207972.9531 - accuracy: 0.3963 - val_loss: 241997.4844 - val_accuracy: 0.3171 - 45ms/epoch - 45ms/step\n",
            "Epoch 4/20\n",
            "1/1 - 0s - loss: 185449.8125 - accuracy: 0.3963 - val_loss: 217087.8125 - val_accuracy: 0.3659 - 31ms/epoch - 31ms/step\n",
            "Epoch 5/20\n",
            "1/1 - 0s - loss: 164231.3438 - accuracy: 0.3963 - val_loss: 196868.8594 - val_accuracy: 0.4878 - 26ms/epoch - 26ms/step\n",
            "Epoch 6/20\n",
            "1/1 - 0s - loss: 145495.3750 - accuracy: 0.4390 - val_loss: 185145.5000 - val_accuracy: 0.4878 - 23ms/epoch - 23ms/step\n",
            "Epoch 7/20\n",
            "1/1 - 0s - loss: 135583.5781 - accuracy: 0.4512 - val_loss: 172853.7031 - val_accuracy: 0.4878 - 26ms/epoch - 26ms/step\n",
            "Epoch 8/20\n",
            "1/1 - 0s - loss: 126867.7344 - accuracy: 0.4451 - val_loss: 159460.5469 - val_accuracy: 0.4878 - 24ms/epoch - 24ms/step\n",
            "Epoch 9/20\n",
            "1/1 - 0s - loss: 117751.0469 - accuracy: 0.4451 - val_loss: 145768.7188 - val_accuracy: 0.4878 - 27ms/epoch - 27ms/step\n",
            "Epoch 10/20\n",
            "1/1 - 0s - loss: 108392.8516 - accuracy: 0.4451 - val_loss: 131970.8438 - val_accuracy: 0.4878 - 35ms/epoch - 35ms/step\n",
            "Epoch 11/20\n",
            "1/1 - 0s - loss: 98804.0859 - accuracy: 0.4512 - val_loss: 118195.7109 - val_accuracy: 0.4878 - 30ms/epoch - 30ms/step\n",
            "Epoch 12/20\n",
            "1/1 - 0s - loss: 88907.0312 - accuracy: 0.4573 - val_loss: 104363.8438 - val_accuracy: 0.5122 - 28ms/epoch - 28ms/step\n",
            "Epoch 13/20\n",
            "1/1 - 0s - loss: 78801.5469 - accuracy: 0.4634 - val_loss: 90472.0078 - val_accuracy: 0.5366 - 31ms/epoch - 31ms/step\n",
            "Epoch 14/20\n",
            "1/1 - 0s - loss: 68531.2266 - accuracy: 0.4634 - val_loss: 76508.2812 - val_accuracy: 0.5854 - 33ms/epoch - 33ms/step\n",
            "Epoch 15/20\n",
            "1/1 - 0s - loss: 58136.5898 - accuracy: 0.4878 - val_loss: 62561.4375 - val_accuracy: 0.6341 - 29ms/epoch - 29ms/step\n",
            "Epoch 16/20\n",
            "1/1 - 0s - loss: 47995.5156 - accuracy: 0.5305 - val_loss: 50327.0859 - val_accuracy: 0.6829 - 26ms/epoch - 26ms/step\n",
            "Epoch 17/20\n",
            "1/1 - 0s - loss: 41395.0195 - accuracy: 0.5854 - val_loss: 43349.6172 - val_accuracy: 0.7073 - 27ms/epoch - 27ms/step\n",
            "Epoch 18/20\n",
            "1/1 - 0s - loss: 36503.7969 - accuracy: 0.5976 - val_loss: 40342.2344 - val_accuracy: 0.7317 - 30ms/epoch - 30ms/step\n",
            "Epoch 19/20\n",
            "1/1 - 0s - loss: 32879.5820 - accuracy: 0.6159 - val_loss: 37204.2695 - val_accuracy: 0.7561 - 27ms/epoch - 27ms/step\n",
            "Epoch 20/20\n",
            "1/1 - 0s - loss: 29705.3750 - accuracy: 0.6220 - val_loss: 33992.8945 - val_accuracy: 0.7317 - 28ms/epoch - 28ms/step\n"
          ]
        },
        {
          "output_type": "execute_result",
          "data": {
            "text/plain": [
              "<keras.callbacks.History at 0x7efc7f9556d0>"
            ]
          },
          "metadata": {},
          "execution_count": 34
        }
      ]
    },
    {
      "cell_type": "code",
      "source": [
        "model_loss = pd.DataFrame(model.history.history)\n",
        "model_loss.plot()"
      ],
      "metadata": {
        "colab": {
          "base_uri": "https://localhost:8080/",
          "height": 282
        },
        "id": "Fc0EWx58VI6S",
        "outputId": "34289554-d439-4338-ec88-c9af01cc13ac"
      },
      "execution_count": 35,
      "outputs": [
        {
          "output_type": "execute_result",
          "data": {
            "text/plain": [
              "<matplotlib.axes._subplots.AxesSubplot at 0x7efc7f9551d0>"
            ]
          },
          "metadata": {},
          "execution_count": 35
        },
        {
          "output_type": "display_data",
          "data": {
            "image/png": "[encoded data removed]",
            "text/plain": [
              "<Figure size 432x288 with 1 Axes>"
            ]
          },
          "metadata": {
            "needs_background": "light"
          }
        }
      ]
    },
    {
      "cell_type": "code",
      "source": [
        "score = model.evaluate(X_test, y_test)\n",
        "print(score)"
      ],
      "metadata": {
        "colab": {
          "base_uri": "https://localhost:8080/"
        },
        "id": "ceyWQTiBVL1U",
        "outputId": "cbf16069-5e23-470b-c846-6a844bc3b628"
      },
      "execution_count": 36,
      "outputs": [
        {
          "output_type": "stream",
          "name": "stdout",
          "text": [
            "3/3 [==============================] - 0s 4ms/step - loss: 46542.6914 - accuracy: 0.6067\n",
            "[46542.69140625, 0.6067415475845337]\n"
          ]
        }
      ]
    },
    {
      "cell_type": "code",
      "source": [
        "y_pred= np.argmax(model.predict(X_test), axis=-1) \n",
        "print('Evaluation of Neural Network Model')\n",
        "print()\n",
        "metrics(y_test, y_pred.round())\n",
        "nn_f1_score = f1_score(y_test, y_pred)\n",
        "nn_cnf_matrix = confusion_matrix(y_test, y_pred)\n",
        "sns.heatmap(pd.DataFrame(nn_cnf_matrix), annot=True, cmap=\"YlGnBu\", fmt='g')\n",
        "plt.ylabel('Actual Label')\n",
        "plt.xlabel('Predicted Label')"
      ],
      "metadata": {
        "colab": {
          "base_uri": "https://localhost:8080/",
          "height": 401
        },
        "id": "EwJQzgQLVQ7h",
        "outputId": "4a575508-29e5-409e-aa46-966e50b6780b"
      },
      "execution_count": 37,
      "outputs": [
        {
          "output_type": "stream",
          "name": "stdout",
          "text": [
            "Evaluation of Neural Network Model\n",
            "\n",
            "Accuracy: 0.60674\n",
            "Precision: 0.67568\n",
            "Recall: 0.52083\n",
            "F1-score: 0.58824\n"
          ]
        },
        {
          "output_type": "execute_result",
          "data": {
            "text/plain": [
              "Text(0.5, 15.0, 'Predicted Label')"
            ]
          },
          "metadata": {},
          "execution_count": 37
        },
        {
          "output_type": "display_data",
          "data": {
            "image/png": "[encoded data removed]",
            "text/plain": [
              "<Figure size 432x288 with 2 Axes>"
            ]
          },
          "metadata": {
            "needs_background": "light"
          }
        }
      ]
    },
    {
      "cell_type": "markdown",
      "source": [
        "###**Comparision of All algorithms with its F1-score**s\n"
      ],
      "metadata": {
        "id": "A5ZXSU9UbS1G"
      }
    },
    {
      "cell_type": "code",
      "source": [
        "results = pd.DataFrame({\n",
        "    'Model': ['Decision Tree','Random Forest','Logistic Regression','SVM'\n",
        "              , 'Neural Network'],\n",
        "    'Score': [ dt_f1_score,\n",
        "              rf_f1_score,logreg_f1_score,svm_f1_score,nn_f1_score]})\n",
        "result_df = results.sort_values(by='Score', ascending=False)\n",
        "result_df = result_df.set_index('Score')\n",
        "result_df.head(5)"
      ],
      "metadata": {
        "colab": {
          "base_uri": "https://localhost:8080/",
          "height": 238
        },
        "id": "x3g66qsZbeRG",
        "outputId": "5fa50ea9-1500-437e-d455-00a86f61721a"
      },
      "execution_count": 38,
      "outputs": [
        {
          "output_type": "execute_result",
          "data": {
            "text/html": [
              "\n",
              "  <div id=\"df-e67ee9c7-1471-4b02-ad1c-0d14eeb13559\">\n",
              "    <div class=\"colab-df-container\">\n",
              "      <div>\n",
              "<style scoped>\n",
              "    .dataframe tbody tr th:only-of-type {\n",
              "        vertical-align: middle;\n",
              "    }\n",
              "\n",
              "    .dataframe tbody tr th {\n",
              "        vertical-align: top;\n",
              "    }\n",
              "\n",
              "    .dataframe thead th {\n",
              "        text-align: right;\n",
              "    }\n",
              "</style>\n",
              "<table border=\"1\" class=\"dataframe\">\n",
              "  <thead>\n",
              "    <tr style=\"text-align: right;\">\n",
              "      <th></th>\n",
              "      <th>Model</th>\n",
              "    </tr>\n",
              "    <tr>\n",
              "      <th>Score</th>\n",
              "      <th></th>\n",
              "    </tr>\n",
              "  </thead>\n",
              "  <tbody>\n",
              "    <tr>\n",
              "      <th>0.957447</th>\n",
              "      <td>Decision Tree</td>\n",
              "    </tr>\n",
              "    <tr>\n",
              "      <th>0.914894</th>\n",
              "      <td>Logistic Regression</td>\n",
              "    </tr>\n",
              "    <tr>\n",
              "      <th>0.888889</th>\n",
              "      <td>Random Forest</td>\n",
              "    </tr>\n",
              "    <tr>\n",
              "      <th>0.658228</th>\n",
              "      <td>SVM</td>\n",
              "    </tr>\n",
              "    <tr>\n",
              "      <th>0.588235</th>\n",
              "      <td>Neural Network</td>\n",
              "    </tr>\n",
              "  </tbody>\n",
              "</table>\n",
              "</div>\n",
              "      <button class=\"colab-df-convert\" onclick=\"convertToInteractive('df-e67ee9c7-1471-4b02-ad1c-0d14eeb13559')\"\n",
              "              title=\"Convert this dataframe to an interactive table.\"\n",
              "              style=\"display:none;\">\n",
              "        \n",
              "  <svg xmlns=\"http://www.w3.org/2000/svg\" height=\"24px\"viewBox=\"0 0 24 24\"\n",
              "       width=\"24px\">\n",
              "    <path d=\"M0 0h24v24H0V0z\" fill=\"none\"/>\n",
              "    <path d=\"M18.56 5.44l.94 2.06.94-2.06 2.06-.94-2.06-.94-.94-2.06-.94 2.06-2.06.94zm-11 1L8.5 8.5l.94-2.06 2.06-.94-2.06-.94L8.5 2.5l-.94 2.06-2.06.94zm10 10l.94 2.06.94-2.06 2.06-.94-2.06-.94-.94-2.06-.94 2.06-2.06.94z\"/><path d=\"M17.41 7.96l-1.37-1.37c-.4-.4-.92-.59-1.43-.59-.52 0-1.04.2-1.43.59L10.3 9.45l-7.72 7.72c-.78.78-.78 2.05 0 2.83L4 21.41c.39.39.9.59 1.41.59.51 0 1.02-.2 1.41-.59l7.78-7.78 2.81-2.81c.8-.78.8-2.07 0-2.86zM5.41 20L4 18.59l7.72-7.72 1.47 1.35L5.41 20z\"/>\n",
              "  </svg>\n",
              "      </button>\n",
              "      \n",
              "  <style>\n",
              "    .colab-df-container {\n",
              "      display:flex;\n",
              "      flex-wrap:wrap;\n",
              "      gap: 12px;\n",
              "    }\n",
              "\n",
              "    .colab-df-convert {\n",
              "      background-color: #E8F0FE;\n",
              "      border: none;\n",
              "      border-radius: 50%;\n",
              "      cursor: pointer;\n",
              "      display: none;\n",
              "      fill: #1967D2;\n",
              "      height: 32px;\n",
              "      padding: 0 0 0 0;\n",
              "      width: 32px;\n",
              "    }\n",
              "\n",
              "    .colab-df-convert:hover {\n",
              "      background-color: #E2EBFA;\n",
              "      box-shadow: 0px 1px 2px rgba(60, 64, 67, 0.3), 0px 1px 3px 1px rgba(60, 64, 67, 0.15);\n",
              "      fill: #174EA6;\n",
              "    }\n",
              "\n",
              "    [theme=dark] .colab-df-convert {\n",
              "      background-color: #3B4455;\n",
              "      fill: #D2E3FC;\n",
              "    }\n",
              "\n",
              "    [theme=dark] .colab-df-convert:hover {\n",
              "      background-color: #434B5C;\n",
              "      box-shadow: 0px 1px 3px 1px rgba(0, 0, 0, 0.15);\n",
              "      filter: drop-shadow(0px 1px 2px rgba(0, 0, 0, 0.3));\n",
              "      fill: #FFFFFF;\n",
              "    }\n",
              "  </style>\n",
              "\n",
              "      <script>\n",
              "        const buttonEl =\n",
              "          document.querySelector('#df-e67ee9c7-1471-4b02-ad1c-0d14eeb13559 button.colab-df-convert');\n",
              "        buttonEl.style.display =\n",
              "          google.colab.kernel.accessAllowed ? 'block' : 'none';\n",
              "\n",
              "        async function convertToInteractive(key) {\n",
              "          const element = document.querySelector('#df-e67ee9c7-1471-4b02-ad1c-0d14eeb13559');\n",
              "          const dataTable =\n",
              "            await google.colab.kernel.invokeFunction('convertToInteractive',\n",
              "                                                     [key], {});\n",
              "          if (!dataTable) return;\n",
              "\n",
              "          const docLinkHtml = 'Like what you see? Visit the ' +\n",
              "            '<a target=\"_blank\" href=https://colab.research.google.com/notebooks/data_table.ipynb>data table notebook</a>'\n",
              "            + ' to learn more about interactive tables.';\n",
              "          element.innerHTML = '';\n",
              "          dataTable['output_type'] = 'display_data';\n",
              "          await google.colab.output.renderOutput(dataTable, element);\n",
              "          const docLink = document.createElement('div');\n",
              "          docLink.innerHTML = docLinkHtml;\n",
              "          element.appendChild(docLink);\n",
              "        }\n",
              "      </script>\n",
              "    </div>\n",
              "  </div>\n",
              "  "
            ],
            "text/plain": [
              "                        Model\n",
              "Score                        \n",
              "0.957447        Decision Tree\n",
              "0.914894  Logistic Regression\n",
              "0.888889        Random Forest\n",
              "0.658228                  SVM\n",
              "0.588235       Neural Network"
            ]
          },
          "metadata": {},
          "execution_count": 38
        }
      ]
    },
    {
      "cell_type": "code",
      "source": [
        "names = ['Decision Tree','Random Forest','Logistic Regression','SVM','Neural Network']\n",
        "results = [dt_f1_score,rf_f1_score,logreg_f1_score,svm_f1_score,nn_f1_score]\n",
        "plt.figure(figsize=(10,6))\n",
        "plt.bar(names,results)\n",
        "plt.xlabel(\"Models\", fontsize=16) #seting the xtitle and size\n",
        "plt.ylabel(\"Scores\", fontsize=16) # Seting the ytitle and size\n",
        "plt.title(\"Comparison Between Models\", fontsize=20)\n",
        "plt.legend()\n",
        "plt.show()"
      ],
      "metadata": {
        "colab": {
          "base_uri": "https://localhost:8080/",
          "height": 431
        },
        "id": "BV2WFWyJbs8Z",
        "outputId": "668b735b-197c-47dd-ef1a-04ce3abf5745"
      },
      "execution_count": 39,
      "outputs": [
        {
          "output_type": "stream",
          "name": "stderr",
          "text": [
            "No handles with labels found to put in legend.\n"
          ]
        },
        {
          "output_type": "display_data",
          "data": {
            "image/png": "[encoded data removed]",
            "text/plain": [
              "<Figure size 720x432 with 1 Axes>"
            ]
          },
          "metadata": {
            "needs_background": "light"
          }
        }
      ]
    }
  ]
}